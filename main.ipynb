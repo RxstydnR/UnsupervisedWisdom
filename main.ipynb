{
 "cells": [
  {
   "cell_type": "code",
   "execution_count": 1,
   "id": "018ebfc6-8e46-4c36-a110-0ad9ce1a54fd",
   "metadata": {},
   "outputs": [],
   "source": [
    "# Set OPENAI_API_KEY\n",
    "import os\n",
    "os.environ[\"OPENAI_API_KEY\"] = \"set your api key here.\""
   ]
  },
  {
   "cell_type": "code",
   "execution_count": 2,
   "id": "89811686",
   "metadata": {},
   "outputs": [],
   "source": [
    "import re\n",
    "import json\n",
    "import random\n",
    "import warnings\n",
    "import numpy as np\n",
    "import pandas as pd\n",
    "from tqdm import tqdm\n",
    "\n",
    "import itertools\n",
    "import networkx as nx\n",
    "import plotly.graph_objects as go\n",
    "from collections import Counter\n",
    "\n",
    "# config\n",
    "seed = 0\n",
    "np.random.seed(seed)\n",
    "\n",
    "warnings.simplefilter('ignore')\n",
    "pd.set_option('display.max_columns', None)\n",
    "pd.set_option('display.max_rows', None)\n",
    "pd.set_option(\"display.max_colwidth\", None)"
   ]
  },
  {
   "cell_type": "markdown",
   "id": "3d3dbb9d",
   "metadata": {
    "tags": []
   },
   "source": [
    "## Read data"
   ]
  },
  {
   "cell_type": "code",
   "execution_count": 3,
   "id": "94fddc67",
   "metadata": {
    "tags": []
   },
   "outputs": [],
   "source": [
    "# read data\n",
    "df = pd.read_csv(\"./dataset/primary_data.csv\",)\n",
    "\n",
    "# preprocess\n",
    "df[\"narrative\"] = df[\"narrative\"].map(lambda x:x.lower())\n",
    "\n",
    "# random sampling\n",
    "df = df.sample(n=300, random_state=0)"
   ]
  },
  {
   "cell_type": "code",
   "execution_count": 4,
   "id": "d0f74db4-b5ab-45c2-bccb-b5a0362302a5",
   "metadata": {},
   "outputs": [],
   "source": [
    "import json\n",
    "with open('./dataset/variable_mapping.json','r',encoding='utf-8') as file:\n",
    "    mapping = json.load(file)\n",
    "    \n",
    "# convert the encoded values in the mapping to integers since they get read in as strings\n",
    "for c in mapping.keys():\n",
    "    mapping[c] = {int(k): v for k, v in mapping[c].items()}\n",
    "    \n",
    "for col in mapping.keys():\n",
    "    df[col] = df[col].map(mapping[col])"
   ]
  },
  {
   "cell_type": "markdown",
   "id": "ce8e9a37-6ede-4898-85af-b58ade5a28fa",
   "metadata": {},
   "source": [
    "## Strategy\n",
    "\n",
    "While the \"Product\" column lists the items that caused falls, it doesn't explain how these items led to the falls. This gap necessitates an exploration of the underlying factors. We aim to speculate on these causative factors.\n",
    "\n",
    "### Integration of Narrative and Tabular Information (age, sex, race, product)\n",
    "\n",
    "The \"Product\" column mentions the objects involved in the incidents, but lacks details on how these objects caused falls. Without this explanation, it's challenging to devise effective strategies. Our focus under \"Narrative Info\" is on the question: `\"Why did the fall occur?\"`. These incidents often happen during `some activity`. Identifying activities unsuitable for the elderly could enable others to provide better support or inform product design. \n",
    "\n",
    "**Although this is a simplistic approach, gaining insights into precursor events or other relevant information from narratives is an essential step.**\n",
    "\n",
    "Simple formula:\n",
    "\n",
    "$$\n",
    "\\text{Narrative} - \\text{product} - \\text{injury} \\cdots = \\text{Insights that only narratives have?}\n",
    "$$"
   ]
  },
  {
   "cell_type": "markdown",
   "id": "cffbe29a-8c67-4e3d-8010-e7119c6e4be0",
   "metadata": {
    "tags": []
   },
   "source": [
    "## Morphological Analysis"
   ]
  },
  {
   "cell_type": "code",
   "execution_count": 6,
   "id": "43f35fdd-b5ff-489f-a350-f0074d5b9512",
   "metadata": {},
   "outputs": [],
   "source": [
    "import nltk\n",
    "from nltk.tokenize import word_tokenize\n",
    "from nltk import pos_tag\n",
    "\n",
    "def extract_verbs(sentence):\n",
    "    \n",
    "    sentence = sentence.lower() # 小文字化\n",
    "    tokens = word_tokenize(sentence) # 文をトークン化\n",
    "    tagged_tokens = pos_tag(tokens) # トークンに品詞タグを付ける\n",
    "    \n",
    "    # 動詞のみを取り出す (動名詞や過去分詞形を除外)\n",
    "    # verbs = [word for word, tag in tagged_tokens if tag.startswith('VB') and tag not in ['VBG', 'VBN']]\n",
    "    verbs = [word for word, tag in tagged_tokens if tag.startswith('VB') or tag.startswith('VBG') or tag.startswith('VBN')]\n",
    "\n",
    "    return verbs\n",
    "\n",
    "verbs_morph = df[\"narrative\"].map(extract_verbs)"
   ]
  },
  {
   "cell_type": "code",
   "execution_count": 7,
   "id": "6f9ff9cf-fe05-4db2-b3ca-6d31c42817e2",
   "metadata": {},
   "outputs": [],
   "source": [
    "from nltk.stem import WordNetLemmatizer\n",
    "lemmatizer = WordNetLemmatizer()\n",
    "def lemmatization_word_list(word_list):\n",
    "    ret=[]\n",
    "    for word in word_list:\n",
    "        ret.append(lemmatizer.lemmatize(word,pos=\"v\"))\n",
    "    return ret\n",
    "\n",
    "verbs_morph2 = [lemmatization_word_list(ws) for ws in verbs_morph]"
   ]
  },
  {
   "cell_type": "markdown",
   "id": "140267b2-a1f4-4b4c-ab66-36bd1c9fa8f6",
   "metadata": {
    "tags": []
   },
   "source": [
    "### ChatGPT"
   ]
  },
  {
   "cell_type": "code",
   "execution_count": 10,
   "id": "e8ce84e8-3376-4ac5-aa25-8ae3a22c97a0",
   "metadata": {},
   "outputs": [],
   "source": [
    "from langchain import PromptTemplate\n",
    "from langchain import FewShotPromptTemplate\n",
    "from langchain.llms import OpenAI"
   ]
  },
  {
   "cell_type": "code",
   "execution_count": 11,
   "id": "1fc955c8-39dd-40df-93c9-9c44209f5002",
   "metadata": {},
   "outputs": [],
   "source": [
    "examples = [\n",
    "    {\n",
    "        \"text\": '94YOM FELL TO THE FLOOR AT THE NURSING HOME ONTO BACK OF HEAD SUSTAINED A SUBDURAL HEMATOMA',\n",
    "        \"verb\": \"FELL TO THE FLOOR\"\n",
    "    },\n",
    "    {\n",
    "        \"text\": '87YOF WAS GETTING UP FROM THE COUCH AND FELL TO THE FLOOR SUSTAINED ABRASIONS TO ELBOWS ADMITTED FOR HEMORRHAGIC STROKE',\n",
    "        \"verb\": \"GETTING UP FROM THE COUCH\"\n",
    "    },\n",
    "    {\n",
    "        \"text\": '67YOF WAS AT A FRIENDS HOUSE AND  THAT WAS ON THE FLOOR AND SUSTAINED A RIGHT RADIUS FX',\n",
    "        \"verb\": \"SLIPPED ON WATER\"\n",
    "    },\n",
    "]\n",
    "\n",
    "example_formatter_template = \"\"\"\n",
    "text: {text}\n",
    "verb: {verb}\\n\n",
    "\"\"\"\n",
    "example_prompt = PromptTemplate(\n",
    "    template=example_formatter_template,\n",
    "    input_variables=[\"text\", \"verb\"]\n",
    ")\n",
    "\n",
    "few_shot_prompt = FewShotPromptTemplate(\n",
    "    examples=examples,\n",
    "    example_prompt=example_prompt,\n",
    "    prefix=\"These are sentences describing situations when elderly individuals fell. Please extract from the sentences the causes of the falls and the actions the elderly individuals took when they fell.\",\n",
    "    suffix=\"text: {input}\\nverb:\",\n",
    "    input_variables=[\"input\"],\n",
    "    example_separator=\"\\n\\n\",\n",
    "\n",
    ")\n",
    "    \n",
    "# ChatGPT Model\n",
    "llm = OpenAI(model_name=\"gpt-3.5-turbo\",temperature=0)\n",
    "\n",
    "def extract_verbs_with_chatgpt(sentence):\n",
    "    \n",
    "    prompt_text = few_shot_prompt.format(input=sentence)\n",
    "    answer = llm(prompt_text)\n",
    "    print(f\"TEXT: {sentence}\")\n",
    "    print(f\"VERB: {answer}\\n\")\n",
    "    return answer"
   ]
  },
  {
   "cell_type": "code",
   "execution_count": 9,
   "id": "d32ba182-8f19-414b-b970-474520ff58e3",
   "metadata": {
    "collapsed": true,
    "jupyter": {
     "outputs_hidden": true
    },
    "tags": []
   },
   "outputs": [
    {
     "ename": "AuthenticationError",
     "evalue": "Incorrect API key provided: set your**********ere.. You can find your API key at https://platform.openai.com/account/api-keys.",
     "output_type": "error",
     "traceback": [
      "\u001b[0;31m---------------------------------------------------------------------------\u001b[0m",
      "\u001b[0;31mAuthenticationError\u001b[0m                       Traceback (most recent call last)",
      "\u001b[0;32m<ipython-input-9-09bc0fe8b5e7>\u001b[0m in \u001b[0;36m<module>\u001b[0;34m\u001b[0m\n\u001b[0;32m----> 1\u001b[0;31m \u001b[0mverbs_chatgpt\u001b[0m \u001b[0;34m=\u001b[0m \u001b[0mdf\u001b[0m\u001b[0;34m[\u001b[0m\u001b[0;34m\"narrative\"\u001b[0m\u001b[0;34m]\u001b[0m\u001b[0;34m.\u001b[0m\u001b[0mmap\u001b[0m\u001b[0;34m(\u001b[0m\u001b[0mextract_verbs_with_chatgpt\u001b[0m\u001b[0;34m)\u001b[0m\u001b[0;34m\u001b[0m\u001b[0;34m\u001b[0m\u001b[0m\n\u001b[0m",
      "\u001b[0;32m/opt/anaconda3/envs/env3/lib/python3.8/site-packages/pandas/core/series.py\u001b[0m in \u001b[0;36mmap\u001b[0;34m(self, arg, na_action)\u001b[0m\n\u001b[1;32m   4395\u001b[0m         \u001b[0mdtype\u001b[0m\u001b[0;34m:\u001b[0m \u001b[0mobject\u001b[0m\u001b[0;34m\u001b[0m\u001b[0;34m\u001b[0m\u001b[0m\n\u001b[1;32m   4396\u001b[0m         \"\"\"\n\u001b[0;32m-> 4397\u001b[0;31m         \u001b[0mnew_values\u001b[0m \u001b[0;34m=\u001b[0m \u001b[0mself\u001b[0m\u001b[0;34m.\u001b[0m\u001b[0m_map_values\u001b[0m\u001b[0;34m(\u001b[0m\u001b[0marg\u001b[0m\u001b[0;34m,\u001b[0m \u001b[0mna_action\u001b[0m\u001b[0;34m=\u001b[0m\u001b[0mna_action\u001b[0m\u001b[0;34m)\u001b[0m\u001b[0;34m\u001b[0m\u001b[0;34m\u001b[0m\u001b[0m\n\u001b[0m\u001b[1;32m   4398\u001b[0m         return self._constructor(new_values, index=self.index, copy=False).__finalize__(\n\u001b[1;32m   4399\u001b[0m             \u001b[0mself\u001b[0m\u001b[0;34m,\u001b[0m \u001b[0mmethod\u001b[0m\u001b[0;34m=\u001b[0m\u001b[0;34m\"map\"\u001b[0m\u001b[0;34m\u001b[0m\u001b[0;34m\u001b[0m\u001b[0m\n",
      "\u001b[0;32m/opt/anaconda3/envs/env3/lib/python3.8/site-packages/pandas/core/base.py\u001b[0m in \u001b[0;36m_map_values\u001b[0;34m(self, mapper, na_action)\u001b[0m\n\u001b[1;32m    922\u001b[0m \u001b[0;34m\u001b[0m\u001b[0m\n\u001b[1;32m    923\u001b[0m         \u001b[0;31m# mapper is a function\u001b[0m\u001b[0;34m\u001b[0m\u001b[0;34m\u001b[0m\u001b[0;34m\u001b[0m\u001b[0m\n\u001b[0;32m--> 924\u001b[0;31m         \u001b[0mnew_values\u001b[0m \u001b[0;34m=\u001b[0m \u001b[0mmap_f\u001b[0m\u001b[0;34m(\u001b[0m\u001b[0mvalues\u001b[0m\u001b[0;34m,\u001b[0m \u001b[0mmapper\u001b[0m\u001b[0;34m)\u001b[0m\u001b[0;34m\u001b[0m\u001b[0;34m\u001b[0m\u001b[0m\n\u001b[0m\u001b[1;32m    925\u001b[0m \u001b[0;34m\u001b[0m\u001b[0m\n\u001b[1;32m    926\u001b[0m         \u001b[0;32mreturn\u001b[0m \u001b[0mnew_values\u001b[0m\u001b[0;34m\u001b[0m\u001b[0;34m\u001b[0m\u001b[0m\n",
      "\u001b[0;32m/opt/anaconda3/envs/env3/lib/python3.8/site-packages/pandas/_libs/lib.pyx\u001b[0m in \u001b[0;36mpandas._libs.lib.map_infer\u001b[0;34m()\u001b[0m\n",
      "\u001b[0;32m<ipython-input-8-65a664836632>\u001b[0m in \u001b[0;36mextract_verbs_with_chatgpt\u001b[0;34m(sentence)\u001b[0m\n\u001b[1;32m     39\u001b[0m \u001b[0;34m\u001b[0m\u001b[0m\n\u001b[1;32m     40\u001b[0m     \u001b[0mprompt_text\u001b[0m \u001b[0;34m=\u001b[0m \u001b[0mfew_shot_prompt\u001b[0m\u001b[0;34m.\u001b[0m\u001b[0mformat\u001b[0m\u001b[0;34m(\u001b[0m\u001b[0minput\u001b[0m\u001b[0;34m=\u001b[0m\u001b[0msentence\u001b[0m\u001b[0;34m)\u001b[0m\u001b[0;34m\u001b[0m\u001b[0;34m\u001b[0m\u001b[0m\n\u001b[0;32m---> 41\u001b[0;31m     \u001b[0manswer\u001b[0m \u001b[0;34m=\u001b[0m \u001b[0mllm\u001b[0m\u001b[0;34m(\u001b[0m\u001b[0mprompt_text\u001b[0m\u001b[0;34m)\u001b[0m\u001b[0;34m\u001b[0m\u001b[0;34m\u001b[0m\u001b[0m\n\u001b[0m\u001b[1;32m     42\u001b[0m     \u001b[0mprint\u001b[0m\u001b[0;34m(\u001b[0m\u001b[0;34mf\"TEXT: {sentence}\"\u001b[0m\u001b[0;34m)\u001b[0m\u001b[0;34m\u001b[0m\u001b[0;34m\u001b[0m\u001b[0m\n\u001b[1;32m     43\u001b[0m     \u001b[0mprint\u001b[0m\u001b[0;34m(\u001b[0m\u001b[0;34mf\"VERB: {answer}\\n\"\u001b[0m\u001b[0;34m)\u001b[0m\u001b[0;34m\u001b[0m\u001b[0;34m\u001b[0m\u001b[0m\n",
      "\u001b[0;32m/opt/anaconda3/envs/env3/lib/python3.8/site-packages/langchain/llms/base.py\u001b[0m in \u001b[0;36m__call__\u001b[0;34m(self, prompt, stop, callbacks, tags, metadata, **kwargs)\u001b[0m\n\u001b[1;32m    862\u001b[0m             )\n\u001b[1;32m    863\u001b[0m         return (\n\u001b[0;32m--> 864\u001b[0;31m             self.generate(\n\u001b[0m\u001b[1;32m    865\u001b[0m                 \u001b[0;34m[\u001b[0m\u001b[0mprompt\u001b[0m\u001b[0;34m]\u001b[0m\u001b[0;34m,\u001b[0m\u001b[0;34m\u001b[0m\u001b[0;34m\u001b[0m\u001b[0m\n\u001b[1;32m    866\u001b[0m                 \u001b[0mstop\u001b[0m\u001b[0;34m=\u001b[0m\u001b[0mstop\u001b[0m\u001b[0;34m,\u001b[0m\u001b[0;34m\u001b[0m\u001b[0;34m\u001b[0m\u001b[0m\n",
      "\u001b[0;32m/opt/anaconda3/envs/env3/lib/python3.8/site-packages/langchain/llms/base.py\u001b[0m in \u001b[0;36mgenerate\u001b[0;34m(self, prompts, stop, callbacks, tags, metadata, run_name, **kwargs)\u001b[0m\n\u001b[1;32m    642\u001b[0m                 )\n\u001b[1;32m    643\u001b[0m             ]\n\u001b[0;32m--> 644\u001b[0;31m             output = self._generate_helper(\n\u001b[0m\u001b[1;32m    645\u001b[0m                 \u001b[0mprompts\u001b[0m\u001b[0;34m,\u001b[0m \u001b[0mstop\u001b[0m\u001b[0;34m,\u001b[0m \u001b[0mrun_managers\u001b[0m\u001b[0;34m,\u001b[0m \u001b[0mbool\u001b[0m\u001b[0;34m(\u001b[0m\u001b[0mnew_arg_supported\u001b[0m\u001b[0;34m)\u001b[0m\u001b[0;34m,\u001b[0m \u001b[0;34m**\u001b[0m\u001b[0mkwargs\u001b[0m\u001b[0;34m\u001b[0m\u001b[0;34m\u001b[0m\u001b[0m\n\u001b[1;32m    646\u001b[0m             )\n",
      "\u001b[0;32m/opt/anaconda3/envs/env3/lib/python3.8/site-packages/langchain/llms/base.py\u001b[0m in \u001b[0;36m_generate_helper\u001b[0;34m(self, prompts, stop, run_managers, new_arg_supported, **kwargs)\u001b[0m\n\u001b[1;32m    530\u001b[0m             \u001b[0;32mfor\u001b[0m \u001b[0mrun_manager\u001b[0m \u001b[0;32min\u001b[0m \u001b[0mrun_managers\u001b[0m\u001b[0;34m:\u001b[0m\u001b[0;34m\u001b[0m\u001b[0;34m\u001b[0m\u001b[0m\n\u001b[1;32m    531\u001b[0m                 \u001b[0mrun_manager\u001b[0m\u001b[0;34m.\u001b[0m\u001b[0mon_llm_error\u001b[0m\u001b[0;34m(\u001b[0m\u001b[0me\u001b[0m\u001b[0;34m)\u001b[0m\u001b[0;34m\u001b[0m\u001b[0;34m\u001b[0m\u001b[0m\n\u001b[0;32m--> 532\u001b[0;31m             \u001b[0;32mraise\u001b[0m \u001b[0me\u001b[0m\u001b[0;34m\u001b[0m\u001b[0;34m\u001b[0m\u001b[0m\n\u001b[0m\u001b[1;32m    533\u001b[0m         \u001b[0mflattened_outputs\u001b[0m \u001b[0;34m=\u001b[0m \u001b[0moutput\u001b[0m\u001b[0;34m.\u001b[0m\u001b[0mflatten\u001b[0m\u001b[0;34m(\u001b[0m\u001b[0;34m)\u001b[0m\u001b[0;34m\u001b[0m\u001b[0;34m\u001b[0m\u001b[0m\n\u001b[1;32m    534\u001b[0m         \u001b[0;32mfor\u001b[0m \u001b[0mmanager\u001b[0m\u001b[0;34m,\u001b[0m \u001b[0mflattened_output\u001b[0m \u001b[0;32min\u001b[0m \u001b[0mzip\u001b[0m\u001b[0;34m(\u001b[0m\u001b[0mrun_managers\u001b[0m\u001b[0;34m,\u001b[0m \u001b[0mflattened_outputs\u001b[0m\u001b[0;34m)\u001b[0m\u001b[0;34m:\u001b[0m\u001b[0;34m\u001b[0m\u001b[0;34m\u001b[0m\u001b[0m\n",
      "\u001b[0;32m/opt/anaconda3/envs/env3/lib/python3.8/site-packages/langchain/llms/base.py\u001b[0m in \u001b[0;36m_generate_helper\u001b[0;34m(self, prompts, stop, run_managers, new_arg_supported, **kwargs)\u001b[0m\n\u001b[1;32m    517\u001b[0m         \u001b[0;32mtry\u001b[0m\u001b[0;34m:\u001b[0m\u001b[0;34m\u001b[0m\u001b[0;34m\u001b[0m\u001b[0m\n\u001b[1;32m    518\u001b[0m             output = (\n\u001b[0;32m--> 519\u001b[0;31m                 self._generate(\n\u001b[0m\u001b[1;32m    520\u001b[0m                     \u001b[0mprompts\u001b[0m\u001b[0;34m,\u001b[0m\u001b[0;34m\u001b[0m\u001b[0;34m\u001b[0m\u001b[0m\n\u001b[1;32m    521\u001b[0m                     \u001b[0mstop\u001b[0m\u001b[0;34m=\u001b[0m\u001b[0mstop\u001b[0m\u001b[0;34m,\u001b[0m\u001b[0;34m\u001b[0m\u001b[0;34m\u001b[0m\u001b[0m\n",
      "\u001b[0;32m/opt/anaconda3/envs/env3/lib/python3.8/site-packages/langchain/llms/openai.py\u001b[0m in \u001b[0;36m_generate\u001b[0;34m(self, prompts, stop, run_manager, **kwargs)\u001b[0m\n\u001b[1;32m    894\u001b[0m         \u001b[0mmessages\u001b[0m\u001b[0;34m,\u001b[0m \u001b[0mparams\u001b[0m \u001b[0;34m=\u001b[0m \u001b[0mself\u001b[0m\u001b[0;34m.\u001b[0m\u001b[0m_get_chat_params\u001b[0m\u001b[0;34m(\u001b[0m\u001b[0mprompts\u001b[0m\u001b[0;34m,\u001b[0m \u001b[0mstop\u001b[0m\u001b[0;34m)\u001b[0m\u001b[0;34m\u001b[0m\u001b[0;34m\u001b[0m\u001b[0m\n\u001b[1;32m    895\u001b[0m         \u001b[0mparams\u001b[0m \u001b[0;34m=\u001b[0m \u001b[0;34m{\u001b[0m\u001b[0;34m**\u001b[0m\u001b[0mparams\u001b[0m\u001b[0;34m,\u001b[0m \u001b[0;34m**\u001b[0m\u001b[0mkwargs\u001b[0m\u001b[0;34m}\u001b[0m\u001b[0;34m\u001b[0m\u001b[0;34m\u001b[0m\u001b[0m\n\u001b[0;32m--> 896\u001b[0;31m         full_response = completion_with_retry(\n\u001b[0m\u001b[1;32m    897\u001b[0m             \u001b[0mself\u001b[0m\u001b[0;34m,\u001b[0m \u001b[0mmessages\u001b[0m\u001b[0;34m=\u001b[0m\u001b[0mmessages\u001b[0m\u001b[0;34m,\u001b[0m \u001b[0mrun_manager\u001b[0m\u001b[0;34m=\u001b[0m\u001b[0mrun_manager\u001b[0m\u001b[0;34m,\u001b[0m \u001b[0;34m**\u001b[0m\u001b[0mparams\u001b[0m\u001b[0;34m\u001b[0m\u001b[0;34m\u001b[0m\u001b[0m\n\u001b[1;32m    898\u001b[0m         )\n",
      "\u001b[0;32m/opt/anaconda3/envs/env3/lib/python3.8/site-packages/langchain/llms/openai.py\u001b[0m in \u001b[0;36mcompletion_with_retry\u001b[0;34m(llm, run_manager, **kwargs)\u001b[0m\n\u001b[1;32m    113\u001b[0m         \u001b[0;32mreturn\u001b[0m \u001b[0mllm\u001b[0m\u001b[0;34m.\u001b[0m\u001b[0mclient\u001b[0m\u001b[0;34m.\u001b[0m\u001b[0mcreate\u001b[0m\u001b[0;34m(\u001b[0m\u001b[0;34m**\u001b[0m\u001b[0mkwargs\u001b[0m\u001b[0;34m)\u001b[0m\u001b[0;34m\u001b[0m\u001b[0;34m\u001b[0m\u001b[0m\n\u001b[1;32m    114\u001b[0m \u001b[0;34m\u001b[0m\u001b[0m\n\u001b[0;32m--> 115\u001b[0;31m     \u001b[0;32mreturn\u001b[0m \u001b[0m_completion_with_retry\u001b[0m\u001b[0;34m(\u001b[0m\u001b[0;34m**\u001b[0m\u001b[0mkwargs\u001b[0m\u001b[0;34m)\u001b[0m\u001b[0;34m\u001b[0m\u001b[0;34m\u001b[0m\u001b[0m\n\u001b[0m\u001b[1;32m    116\u001b[0m \u001b[0;34m\u001b[0m\u001b[0m\n\u001b[1;32m    117\u001b[0m \u001b[0;34m\u001b[0m\u001b[0m\n",
      "\u001b[0;32m/opt/anaconda3/envs/env3/lib/python3.8/site-packages/tenacity/__init__.py\u001b[0m in \u001b[0;36mwrapped_f\u001b[0;34m(*args, **kw)\u001b[0m\n\u001b[1;32m    287\u001b[0m         \u001b[0;34m@\u001b[0m\u001b[0mfunctools\u001b[0m\u001b[0;34m.\u001b[0m\u001b[0mwraps\u001b[0m\u001b[0;34m(\u001b[0m\u001b[0mf\u001b[0m\u001b[0;34m)\u001b[0m\u001b[0;34m\u001b[0m\u001b[0;34m\u001b[0m\u001b[0m\n\u001b[1;32m    288\u001b[0m         \u001b[0;32mdef\u001b[0m \u001b[0mwrapped_f\u001b[0m\u001b[0;34m(\u001b[0m\u001b[0;34m*\u001b[0m\u001b[0margs\u001b[0m\u001b[0;34m:\u001b[0m \u001b[0mt\u001b[0m\u001b[0;34m.\u001b[0m\u001b[0mAny\u001b[0m\u001b[0;34m,\u001b[0m \u001b[0;34m**\u001b[0m\u001b[0mkw\u001b[0m\u001b[0;34m:\u001b[0m \u001b[0mt\u001b[0m\u001b[0;34m.\u001b[0m\u001b[0mAny\u001b[0m\u001b[0;34m)\u001b[0m \u001b[0;34m->\u001b[0m \u001b[0mt\u001b[0m\u001b[0;34m.\u001b[0m\u001b[0mAny\u001b[0m\u001b[0;34m:\u001b[0m\u001b[0;34m\u001b[0m\u001b[0;34m\u001b[0m\u001b[0m\n\u001b[0;32m--> 289\u001b[0;31m             \u001b[0;32mreturn\u001b[0m \u001b[0mself\u001b[0m\u001b[0;34m(\u001b[0m\u001b[0mf\u001b[0m\u001b[0;34m,\u001b[0m \u001b[0;34m*\u001b[0m\u001b[0margs\u001b[0m\u001b[0;34m,\u001b[0m \u001b[0;34m**\u001b[0m\u001b[0mkw\u001b[0m\u001b[0;34m)\u001b[0m\u001b[0;34m\u001b[0m\u001b[0;34m\u001b[0m\u001b[0m\n\u001b[0m\u001b[1;32m    290\u001b[0m \u001b[0;34m\u001b[0m\u001b[0m\n\u001b[1;32m    291\u001b[0m         \u001b[0;32mdef\u001b[0m \u001b[0mretry_with\u001b[0m\u001b[0;34m(\u001b[0m\u001b[0;34m*\u001b[0m\u001b[0margs\u001b[0m\u001b[0;34m:\u001b[0m \u001b[0mt\u001b[0m\u001b[0;34m.\u001b[0m\u001b[0mAny\u001b[0m\u001b[0;34m,\u001b[0m \u001b[0;34m**\u001b[0m\u001b[0mkwargs\u001b[0m\u001b[0;34m:\u001b[0m \u001b[0mt\u001b[0m\u001b[0;34m.\u001b[0m\u001b[0mAny\u001b[0m\u001b[0;34m)\u001b[0m \u001b[0;34m->\u001b[0m \u001b[0mWrappedFn\u001b[0m\u001b[0;34m:\u001b[0m\u001b[0;34m\u001b[0m\u001b[0;34m\u001b[0m\u001b[0m\n",
      "\u001b[0;32m/opt/anaconda3/envs/env3/lib/python3.8/site-packages/tenacity/__init__.py\u001b[0m in \u001b[0;36m__call__\u001b[0;34m(self, fn, *args, **kwargs)\u001b[0m\n\u001b[1;32m    377\u001b[0m         \u001b[0mretry_state\u001b[0m \u001b[0;34m=\u001b[0m \u001b[0mRetryCallState\u001b[0m\u001b[0;34m(\u001b[0m\u001b[0mretry_object\u001b[0m\u001b[0;34m=\u001b[0m\u001b[0mself\u001b[0m\u001b[0;34m,\u001b[0m \u001b[0mfn\u001b[0m\u001b[0;34m=\u001b[0m\u001b[0mfn\u001b[0m\u001b[0;34m,\u001b[0m \u001b[0margs\u001b[0m\u001b[0;34m=\u001b[0m\u001b[0margs\u001b[0m\u001b[0;34m,\u001b[0m \u001b[0mkwargs\u001b[0m\u001b[0;34m=\u001b[0m\u001b[0mkwargs\u001b[0m\u001b[0;34m)\u001b[0m\u001b[0;34m\u001b[0m\u001b[0;34m\u001b[0m\u001b[0m\n\u001b[1;32m    378\u001b[0m         \u001b[0;32mwhile\u001b[0m \u001b[0;32mTrue\u001b[0m\u001b[0;34m:\u001b[0m\u001b[0;34m\u001b[0m\u001b[0;34m\u001b[0m\u001b[0m\n\u001b[0;32m--> 379\u001b[0;31m             \u001b[0mdo\u001b[0m \u001b[0;34m=\u001b[0m \u001b[0mself\u001b[0m\u001b[0;34m.\u001b[0m\u001b[0miter\u001b[0m\u001b[0;34m(\u001b[0m\u001b[0mretry_state\u001b[0m\u001b[0;34m=\u001b[0m\u001b[0mretry_state\u001b[0m\u001b[0;34m)\u001b[0m\u001b[0;34m\u001b[0m\u001b[0;34m\u001b[0m\u001b[0m\n\u001b[0m\u001b[1;32m    380\u001b[0m             \u001b[0;32mif\u001b[0m \u001b[0misinstance\u001b[0m\u001b[0;34m(\u001b[0m\u001b[0mdo\u001b[0m\u001b[0;34m,\u001b[0m \u001b[0mDoAttempt\u001b[0m\u001b[0;34m)\u001b[0m\u001b[0;34m:\u001b[0m\u001b[0;34m\u001b[0m\u001b[0;34m\u001b[0m\u001b[0m\n\u001b[1;32m    381\u001b[0m                 \u001b[0;32mtry\u001b[0m\u001b[0;34m:\u001b[0m\u001b[0;34m\u001b[0m\u001b[0;34m\u001b[0m\u001b[0m\n",
      "\u001b[0;32m/opt/anaconda3/envs/env3/lib/python3.8/site-packages/tenacity/__init__.py\u001b[0m in \u001b[0;36miter\u001b[0;34m(self, retry_state)\u001b[0m\n\u001b[1;32m    312\u001b[0m         \u001b[0mis_explicit_retry\u001b[0m \u001b[0;34m=\u001b[0m \u001b[0mfut\u001b[0m\u001b[0;34m.\u001b[0m\u001b[0mfailed\u001b[0m \u001b[0;32mand\u001b[0m \u001b[0misinstance\u001b[0m\u001b[0;34m(\u001b[0m\u001b[0mfut\u001b[0m\u001b[0;34m.\u001b[0m\u001b[0mexception\u001b[0m\u001b[0;34m(\u001b[0m\u001b[0;34m)\u001b[0m\u001b[0;34m,\u001b[0m \u001b[0mTryAgain\u001b[0m\u001b[0;34m)\u001b[0m\u001b[0;34m\u001b[0m\u001b[0;34m\u001b[0m\u001b[0m\n\u001b[1;32m    313\u001b[0m         \u001b[0;32mif\u001b[0m \u001b[0;32mnot\u001b[0m \u001b[0;34m(\u001b[0m\u001b[0mis_explicit_retry\u001b[0m \u001b[0;32mor\u001b[0m \u001b[0mself\u001b[0m\u001b[0;34m.\u001b[0m\u001b[0mretry\u001b[0m\u001b[0;34m(\u001b[0m\u001b[0mretry_state\u001b[0m\u001b[0;34m)\u001b[0m\u001b[0;34m)\u001b[0m\u001b[0;34m:\u001b[0m\u001b[0;34m\u001b[0m\u001b[0;34m\u001b[0m\u001b[0m\n\u001b[0;32m--> 314\u001b[0;31m             \u001b[0;32mreturn\u001b[0m \u001b[0mfut\u001b[0m\u001b[0;34m.\u001b[0m\u001b[0mresult\u001b[0m\u001b[0;34m(\u001b[0m\u001b[0;34m)\u001b[0m\u001b[0;34m\u001b[0m\u001b[0;34m\u001b[0m\u001b[0m\n\u001b[0m\u001b[1;32m    315\u001b[0m \u001b[0;34m\u001b[0m\u001b[0m\n\u001b[1;32m    316\u001b[0m         \u001b[0;32mif\u001b[0m \u001b[0mself\u001b[0m\u001b[0;34m.\u001b[0m\u001b[0mafter\u001b[0m \u001b[0;32mis\u001b[0m \u001b[0;32mnot\u001b[0m \u001b[0;32mNone\u001b[0m\u001b[0;34m:\u001b[0m\u001b[0;34m\u001b[0m\u001b[0;34m\u001b[0m\u001b[0m\n",
      "\u001b[0;32m/opt/anaconda3/envs/env3/lib/python3.8/concurrent/futures/_base.py\u001b[0m in \u001b[0;36mresult\u001b[0;34m(self, timeout)\u001b[0m\n\u001b[1;32m    430\u001b[0m                 \u001b[0;32mraise\u001b[0m \u001b[0mCancelledError\u001b[0m\u001b[0;34m(\u001b[0m\u001b[0;34m)\u001b[0m\u001b[0;34m\u001b[0m\u001b[0;34m\u001b[0m\u001b[0m\n\u001b[1;32m    431\u001b[0m             \u001b[0;32melif\u001b[0m \u001b[0mself\u001b[0m\u001b[0;34m.\u001b[0m\u001b[0m_state\u001b[0m \u001b[0;34m==\u001b[0m \u001b[0mFINISHED\u001b[0m\u001b[0;34m:\u001b[0m\u001b[0;34m\u001b[0m\u001b[0;34m\u001b[0m\u001b[0m\n\u001b[0;32m--> 432\u001b[0;31m                 \u001b[0;32mreturn\u001b[0m \u001b[0mself\u001b[0m\u001b[0;34m.\u001b[0m\u001b[0m__get_result\u001b[0m\u001b[0;34m(\u001b[0m\u001b[0;34m)\u001b[0m\u001b[0;34m\u001b[0m\u001b[0;34m\u001b[0m\u001b[0m\n\u001b[0m\u001b[1;32m    433\u001b[0m \u001b[0;34m\u001b[0m\u001b[0m\n\u001b[1;32m    434\u001b[0m             \u001b[0mself\u001b[0m\u001b[0;34m.\u001b[0m\u001b[0m_condition\u001b[0m\u001b[0;34m.\u001b[0m\u001b[0mwait\u001b[0m\u001b[0;34m(\u001b[0m\u001b[0mtimeout\u001b[0m\u001b[0;34m)\u001b[0m\u001b[0;34m\u001b[0m\u001b[0;34m\u001b[0m\u001b[0m\n",
      "\u001b[0;32m/opt/anaconda3/envs/env3/lib/python3.8/concurrent/futures/_base.py\u001b[0m in \u001b[0;36m__get_result\u001b[0;34m(self)\u001b[0m\n\u001b[1;32m    386\u001b[0m     \u001b[0;32mdef\u001b[0m \u001b[0m__get_result\u001b[0m\u001b[0;34m(\u001b[0m\u001b[0mself\u001b[0m\u001b[0;34m)\u001b[0m\u001b[0;34m:\u001b[0m\u001b[0;34m\u001b[0m\u001b[0;34m\u001b[0m\u001b[0m\n\u001b[1;32m    387\u001b[0m         \u001b[0;32mif\u001b[0m \u001b[0mself\u001b[0m\u001b[0;34m.\u001b[0m\u001b[0m_exception\u001b[0m\u001b[0;34m:\u001b[0m\u001b[0;34m\u001b[0m\u001b[0;34m\u001b[0m\u001b[0m\n\u001b[0;32m--> 388\u001b[0;31m             \u001b[0;32mraise\u001b[0m \u001b[0mself\u001b[0m\u001b[0;34m.\u001b[0m\u001b[0m_exception\u001b[0m\u001b[0;34m\u001b[0m\u001b[0;34m\u001b[0m\u001b[0m\n\u001b[0m\u001b[1;32m    389\u001b[0m         \u001b[0;32melse\u001b[0m\u001b[0;34m:\u001b[0m\u001b[0;34m\u001b[0m\u001b[0;34m\u001b[0m\u001b[0m\n\u001b[1;32m    390\u001b[0m             \u001b[0;32mreturn\u001b[0m \u001b[0mself\u001b[0m\u001b[0;34m.\u001b[0m\u001b[0m_result\u001b[0m\u001b[0;34m\u001b[0m\u001b[0;34m\u001b[0m\u001b[0m\n",
      "\u001b[0;32m/opt/anaconda3/envs/env3/lib/python3.8/site-packages/tenacity/__init__.py\u001b[0m in \u001b[0;36m__call__\u001b[0;34m(self, fn, *args, **kwargs)\u001b[0m\n\u001b[1;32m    380\u001b[0m             \u001b[0;32mif\u001b[0m \u001b[0misinstance\u001b[0m\u001b[0;34m(\u001b[0m\u001b[0mdo\u001b[0m\u001b[0;34m,\u001b[0m \u001b[0mDoAttempt\u001b[0m\u001b[0;34m)\u001b[0m\u001b[0;34m:\u001b[0m\u001b[0;34m\u001b[0m\u001b[0;34m\u001b[0m\u001b[0m\n\u001b[1;32m    381\u001b[0m                 \u001b[0;32mtry\u001b[0m\u001b[0;34m:\u001b[0m\u001b[0;34m\u001b[0m\u001b[0;34m\u001b[0m\u001b[0m\n\u001b[0;32m--> 382\u001b[0;31m                     \u001b[0mresult\u001b[0m \u001b[0;34m=\u001b[0m \u001b[0mfn\u001b[0m\u001b[0;34m(\u001b[0m\u001b[0;34m*\u001b[0m\u001b[0margs\u001b[0m\u001b[0;34m,\u001b[0m \u001b[0;34m**\u001b[0m\u001b[0mkwargs\u001b[0m\u001b[0;34m)\u001b[0m\u001b[0;34m\u001b[0m\u001b[0;34m\u001b[0m\u001b[0m\n\u001b[0m\u001b[1;32m    383\u001b[0m                 \u001b[0;32mexcept\u001b[0m \u001b[0mBaseException\u001b[0m\u001b[0;34m:\u001b[0m  \u001b[0;31m# noqa: B902\u001b[0m\u001b[0;34m\u001b[0m\u001b[0;34m\u001b[0m\u001b[0m\n\u001b[1;32m    384\u001b[0m                     \u001b[0mretry_state\u001b[0m\u001b[0;34m.\u001b[0m\u001b[0mset_exception\u001b[0m\u001b[0;34m(\u001b[0m\u001b[0msys\u001b[0m\u001b[0;34m.\u001b[0m\u001b[0mexc_info\u001b[0m\u001b[0;34m(\u001b[0m\u001b[0;34m)\u001b[0m\u001b[0;34m)\u001b[0m  \u001b[0;31m# type: ignore[arg-type]\u001b[0m\u001b[0;34m\u001b[0m\u001b[0;34m\u001b[0m\u001b[0m\n",
      "\u001b[0;32m/opt/anaconda3/envs/env3/lib/python3.8/site-packages/langchain/llms/openai.py\u001b[0m in \u001b[0;36m_completion_with_retry\u001b[0;34m(**kwargs)\u001b[0m\n\u001b[1;32m    111\u001b[0m     \u001b[0;34m@\u001b[0m\u001b[0mretry_decorator\u001b[0m\u001b[0;34m\u001b[0m\u001b[0;34m\u001b[0m\u001b[0m\n\u001b[1;32m    112\u001b[0m     \u001b[0;32mdef\u001b[0m \u001b[0m_completion_with_retry\u001b[0m\u001b[0;34m(\u001b[0m\u001b[0;34m**\u001b[0m\u001b[0mkwargs\u001b[0m\u001b[0;34m:\u001b[0m \u001b[0mAny\u001b[0m\u001b[0;34m)\u001b[0m \u001b[0;34m->\u001b[0m \u001b[0mAny\u001b[0m\u001b[0;34m:\u001b[0m\u001b[0;34m\u001b[0m\u001b[0;34m\u001b[0m\u001b[0m\n\u001b[0;32m--> 113\u001b[0;31m         \u001b[0;32mreturn\u001b[0m \u001b[0mllm\u001b[0m\u001b[0;34m.\u001b[0m\u001b[0mclient\u001b[0m\u001b[0;34m.\u001b[0m\u001b[0mcreate\u001b[0m\u001b[0;34m(\u001b[0m\u001b[0;34m**\u001b[0m\u001b[0mkwargs\u001b[0m\u001b[0;34m)\u001b[0m\u001b[0;34m\u001b[0m\u001b[0;34m\u001b[0m\u001b[0m\n\u001b[0m\u001b[1;32m    114\u001b[0m \u001b[0;34m\u001b[0m\u001b[0m\n\u001b[1;32m    115\u001b[0m     \u001b[0;32mreturn\u001b[0m \u001b[0m_completion_with_retry\u001b[0m\u001b[0;34m(\u001b[0m\u001b[0;34m**\u001b[0m\u001b[0mkwargs\u001b[0m\u001b[0;34m)\u001b[0m\u001b[0;34m\u001b[0m\u001b[0;34m\u001b[0m\u001b[0m\n",
      "\u001b[0;32m/opt/anaconda3/envs/env3/lib/python3.8/site-packages/openai/api_resources/chat_completion.py\u001b[0m in \u001b[0;36mcreate\u001b[0;34m(cls, *args, **kwargs)\u001b[0m\n\u001b[1;32m     23\u001b[0m         \u001b[0;32mwhile\u001b[0m \u001b[0;32mTrue\u001b[0m\u001b[0;34m:\u001b[0m\u001b[0;34m\u001b[0m\u001b[0;34m\u001b[0m\u001b[0m\n\u001b[1;32m     24\u001b[0m             \u001b[0;32mtry\u001b[0m\u001b[0;34m:\u001b[0m\u001b[0;34m\u001b[0m\u001b[0;34m\u001b[0m\u001b[0m\n\u001b[0;32m---> 25\u001b[0;31m                 \u001b[0;32mreturn\u001b[0m \u001b[0msuper\u001b[0m\u001b[0;34m(\u001b[0m\u001b[0;34m)\u001b[0m\u001b[0;34m.\u001b[0m\u001b[0mcreate\u001b[0m\u001b[0;34m(\u001b[0m\u001b[0;34m*\u001b[0m\u001b[0margs\u001b[0m\u001b[0;34m,\u001b[0m \u001b[0;34m**\u001b[0m\u001b[0mkwargs\u001b[0m\u001b[0;34m)\u001b[0m\u001b[0;34m\u001b[0m\u001b[0;34m\u001b[0m\u001b[0m\n\u001b[0m\u001b[1;32m     26\u001b[0m             \u001b[0;32mexcept\u001b[0m \u001b[0mTryAgain\u001b[0m \u001b[0;32mas\u001b[0m \u001b[0me\u001b[0m\u001b[0;34m:\u001b[0m\u001b[0;34m\u001b[0m\u001b[0;34m\u001b[0m\u001b[0m\n\u001b[1;32m     27\u001b[0m                 \u001b[0;32mif\u001b[0m \u001b[0mtimeout\u001b[0m \u001b[0;32mis\u001b[0m \u001b[0;32mnot\u001b[0m \u001b[0;32mNone\u001b[0m \u001b[0;32mand\u001b[0m \u001b[0mtime\u001b[0m\u001b[0;34m.\u001b[0m\u001b[0mtime\u001b[0m\u001b[0;34m(\u001b[0m\u001b[0;34m)\u001b[0m \u001b[0;34m>\u001b[0m \u001b[0mstart\u001b[0m \u001b[0;34m+\u001b[0m \u001b[0mtimeout\u001b[0m\u001b[0;34m:\u001b[0m\u001b[0;34m\u001b[0m\u001b[0;34m\u001b[0m\u001b[0m\n",
      "\u001b[0;32m/opt/anaconda3/envs/env3/lib/python3.8/site-packages/openai/api_resources/abstract/engine_api_resource.py\u001b[0m in \u001b[0;36mcreate\u001b[0;34m(cls, api_key, api_base, api_type, request_id, api_version, organization, **params)\u001b[0m\n\u001b[1;32m    151\u001b[0m         )\n\u001b[1;32m    152\u001b[0m \u001b[0;34m\u001b[0m\u001b[0m\n\u001b[0;32m--> 153\u001b[0;31m         response, _, api_key = requestor.request(\n\u001b[0m\u001b[1;32m    154\u001b[0m             \u001b[0;34m\"post\"\u001b[0m\u001b[0;34m,\u001b[0m\u001b[0;34m\u001b[0m\u001b[0;34m\u001b[0m\u001b[0m\n\u001b[1;32m    155\u001b[0m             \u001b[0murl\u001b[0m\u001b[0;34m,\u001b[0m\u001b[0;34m\u001b[0m\u001b[0;34m\u001b[0m\u001b[0m\n",
      "\u001b[0;32m/opt/anaconda3/envs/env3/lib/python3.8/site-packages/openai/api_requestor.py\u001b[0m in \u001b[0;36mrequest\u001b[0;34m(self, method, url, params, headers, files, stream, request_id, request_timeout)\u001b[0m\n\u001b[1;32m    296\u001b[0m             \u001b[0mrequest_timeout\u001b[0m\u001b[0;34m=\u001b[0m\u001b[0mrequest_timeout\u001b[0m\u001b[0;34m,\u001b[0m\u001b[0;34m\u001b[0m\u001b[0;34m\u001b[0m\u001b[0m\n\u001b[1;32m    297\u001b[0m         )\n\u001b[0;32m--> 298\u001b[0;31m         \u001b[0mresp\u001b[0m\u001b[0;34m,\u001b[0m \u001b[0mgot_stream\u001b[0m \u001b[0;34m=\u001b[0m \u001b[0mself\u001b[0m\u001b[0;34m.\u001b[0m\u001b[0m_interpret_response\u001b[0m\u001b[0;34m(\u001b[0m\u001b[0mresult\u001b[0m\u001b[0;34m,\u001b[0m \u001b[0mstream\u001b[0m\u001b[0;34m)\u001b[0m\u001b[0;34m\u001b[0m\u001b[0;34m\u001b[0m\u001b[0m\n\u001b[0m\u001b[1;32m    299\u001b[0m         \u001b[0;32mreturn\u001b[0m \u001b[0mresp\u001b[0m\u001b[0;34m,\u001b[0m \u001b[0mgot_stream\u001b[0m\u001b[0;34m,\u001b[0m \u001b[0mself\u001b[0m\u001b[0;34m.\u001b[0m\u001b[0mapi_key\u001b[0m\u001b[0;34m\u001b[0m\u001b[0;34m\u001b[0m\u001b[0m\n\u001b[1;32m    300\u001b[0m \u001b[0;34m\u001b[0m\u001b[0m\n",
      "\u001b[0;32m/opt/anaconda3/envs/env3/lib/python3.8/site-packages/openai/api_requestor.py\u001b[0m in \u001b[0;36m_interpret_response\u001b[0;34m(self, result, stream)\u001b[0m\n\u001b[1;32m    698\u001b[0m         \u001b[0;32melse\u001b[0m\u001b[0;34m:\u001b[0m\u001b[0;34m\u001b[0m\u001b[0;34m\u001b[0m\u001b[0m\n\u001b[1;32m    699\u001b[0m             return (\n\u001b[0;32m--> 700\u001b[0;31m                 self._interpret_response_line(\n\u001b[0m\u001b[1;32m    701\u001b[0m                     \u001b[0mresult\u001b[0m\u001b[0;34m.\u001b[0m\u001b[0mcontent\u001b[0m\u001b[0;34m.\u001b[0m\u001b[0mdecode\u001b[0m\u001b[0;34m(\u001b[0m\u001b[0;34m\"utf-8\"\u001b[0m\u001b[0;34m)\u001b[0m\u001b[0;34m,\u001b[0m\u001b[0;34m\u001b[0m\u001b[0;34m\u001b[0m\u001b[0m\n\u001b[1;32m    702\u001b[0m                     \u001b[0mresult\u001b[0m\u001b[0;34m.\u001b[0m\u001b[0mstatus_code\u001b[0m\u001b[0;34m,\u001b[0m\u001b[0;34m\u001b[0m\u001b[0;34m\u001b[0m\u001b[0m\n",
      "\u001b[0;32m/opt/anaconda3/envs/env3/lib/python3.8/site-packages/openai/api_requestor.py\u001b[0m in \u001b[0;36m_interpret_response_line\u001b[0;34m(self, rbody, rcode, rheaders, stream)\u001b[0m\n\u001b[1;32m    761\u001b[0m         \u001b[0mstream_error\u001b[0m \u001b[0;34m=\u001b[0m \u001b[0mstream\u001b[0m \u001b[0;32mand\u001b[0m \u001b[0;34m\"error\"\u001b[0m \u001b[0;32min\u001b[0m \u001b[0mresp\u001b[0m\u001b[0;34m.\u001b[0m\u001b[0mdata\u001b[0m\u001b[0;34m\u001b[0m\u001b[0;34m\u001b[0m\u001b[0m\n\u001b[1;32m    762\u001b[0m         \u001b[0;32mif\u001b[0m \u001b[0mstream_error\u001b[0m \u001b[0;32mor\u001b[0m \u001b[0;32mnot\u001b[0m \u001b[0;36m200\u001b[0m \u001b[0;34m<=\u001b[0m \u001b[0mrcode\u001b[0m \u001b[0;34m<\u001b[0m \u001b[0;36m300\u001b[0m\u001b[0;34m:\u001b[0m\u001b[0;34m\u001b[0m\u001b[0;34m\u001b[0m\u001b[0m\n\u001b[0;32m--> 763\u001b[0;31m             raise self.handle_error_response(\n\u001b[0m\u001b[1;32m    764\u001b[0m                 \u001b[0mrbody\u001b[0m\u001b[0;34m,\u001b[0m \u001b[0mrcode\u001b[0m\u001b[0;34m,\u001b[0m \u001b[0mresp\u001b[0m\u001b[0;34m.\u001b[0m\u001b[0mdata\u001b[0m\u001b[0;34m,\u001b[0m \u001b[0mrheaders\u001b[0m\u001b[0;34m,\u001b[0m \u001b[0mstream_error\u001b[0m\u001b[0;34m=\u001b[0m\u001b[0mstream_error\u001b[0m\u001b[0;34m\u001b[0m\u001b[0;34m\u001b[0m\u001b[0m\n\u001b[1;32m    765\u001b[0m             )\n",
      "\u001b[0;31mAuthenticationError\u001b[0m: Incorrect API key provided: set your**********ere.. You can find your API key at https://platform.openai.com/account/api-keys."
     ]
    }
   ],
   "source": [
    "verbs_chatgpt = df[\"narrative\"].map(extract_verbs_with_chatgpt)"
   ]
  },
  {
   "cell_type": "markdown",
   "id": "65ce8383-d7d6-49e7-94f0-61531d7bae3f",
   "metadata": {},
   "source": [
    "<font size=4 color=\"indianred\">Note: ChatGPT's performance is changing all the time. To reproduce my output, use `chatgpt_verbs_300.csv`.</font>"
   ]
  },
  {
   "cell_type": "code",
   "execution_count": 12,
   "id": "ab034812-8e9a-4a87-bb36-2febfe12b2b1",
   "metadata": {},
   "outputs": [],
   "source": [
    "verbs_chatgpt = pd.read_csv(\"./output/chatgpt_verbs_300.csv\",index_col=0)[\"narrative\"]"
   ]
  },
  {
   "cell_type": "markdown",
   "id": "f6b2eea1-4fa0-435a-9d6f-50721b171520",
   "metadata": {
    "tags": []
   },
   "source": [
    "### Comparison of Results"
   ]
  },
  {
   "cell_type": "code",
   "execution_count": 13,
   "id": "db38a0f3-1807-4f54-86fc-976bedd51830",
   "metadata": {},
   "outputs": [],
   "source": [
    "def get_word_count(words):\n",
    "    df_word_freq = pd.DataFrame({\"Freq\":Counter(words)}).reset_index()\n",
    "    df_word_freq.columns = [\"Word\",\"Freq\"]\n",
    "    df_word_freq = df_word_freq.sort_values(\"Freq\",ascending=False)\n",
    "    return df_word_freq"
   ]
  },
  {
   "cell_type": "code",
   "execution_count": 14,
   "id": "81c7e7be-9121-4a0e-838f-c7af0d327d4e",
   "metadata": {
    "tags": []
   },
   "outputs": [],
   "source": [
    "df_ret = pd.DataFrame()\n",
    "df_ret[\"Narrative\"] = df[\"narrative\"]\n",
    "df_ret[\"Morph\"] = verbs_morph2\n",
    "df_ret[\"ChatGPT\"] = verbs_chatgpt.values\n",
    "df_ret[\"ChatGPT\"] = df_ret[\"ChatGPT\"].map(lambda x:x.lower())\n",
    "df_ret = pd.concat([df_ret,df],axis=1)"
   ]
  },
  {
   "cell_type": "code",
   "execution_count": 15,
   "id": "3d7c7911-80e5-4f6a-8f2c-2f37b445b4ad",
   "metadata": {
    "tags": []
   },
   "outputs": [
    {
     "data": {
      "text/html": [
       "<div>\n",
       "<style scoped>\n",
       "    .dataframe tbody tr th:only-of-type {\n",
       "        vertical-align: middle;\n",
       "    }\n",
       "\n",
       "    .dataframe tbody tr th {\n",
       "        vertical-align: top;\n",
       "    }\n",
       "\n",
       "    .dataframe thead th {\n",
       "        text-align: right;\n",
       "    }\n",
       "</style>\n",
       "<table border=\"1\" class=\"dataframe\">\n",
       "  <thead>\n",
       "    <tr style=\"text-align: right;\">\n",
       "      <th></th>\n",
       "      <th>Narrative</th>\n",
       "      <th>Morph</th>\n",
       "      <th>ChatGPT</th>\n",
       "    </tr>\n",
       "  </thead>\n",
       "  <tbody>\n",
       "    <tr>\n",
       "      <th>57498</th>\n",
       "      <td>78yom was leaning forward to pick up something off the floor and lost his balance and fell striking his head dx: closed head injury; laceration scalp</td>\n",
       "      <td>[be, lean, pick, lose, fell, strike]</td>\n",
       "      <td>leaning forward to pick up something off the floor</td>\n",
       "    </tr>\n",
       "    <tr>\n",
       "      <th>91762</th>\n",
       "      <td>70 yof riding lawnmower accident, went over embankment, was in yard over night found by family. dx critical polytrauma, chest trauma, closed head injury</td>\n",
       "      <td>[rid, go, be, find, dx, close]</td>\n",
       "      <td>riding lawnmower accident, went over embankment</td>\n",
       "    </tr>\n",
       "    <tr>\n",
       "      <th>61136</th>\n",
       "      <td>68yom presents after a fall from a chair at the nursing home. pt states he slid off of the chair and often does this to get pain meds. dx: chronic midline lower back pain, low level fall, l2 compression fx</td>\n",
       "      <td>[pt, slide, do, get]</td>\n",
       "      <td>slid off of the chair</td>\n",
       "    </tr>\n",
       "    <tr>\n",
       "      <th>395</th>\n",
       "      <td>69yowm tripped and landed on floor at home. dx right tib fracture*</td>\n",
       "      <td>[land, dx]</td>\n",
       "      <td>tripped and landed on floor</td>\n",
       "    </tr>\n",
       "    <tr>\n",
       "      <th>81990</th>\n",
       "      <td>80 yom sat down on a rolling chair and was leaning over to dry off his dog when the chair slid out from under him.dx: thoracic compression fracture closed.</td>\n",
       "      <td>[sit, be, lean, dry, slide, close]</td>\n",
       "      <td>sat down on a rolling chair, leaning over to dry off his dog</td>\n",
       "    </tr>\n",
       "    <tr>\n",
       "      <th>60766</th>\n",
       "      <td>65yof was walking in a parking lot when she got her legs caught up in a discarded plastic bag and she fell onto outstretched arm dx: fractured right radius</td>\n",
       "      <td>[be, walk, get, catch, fell, outstretched, fracture]</td>\n",
       "      <td>got her legs caught up in a discarded plastic bag</td>\n",
       "    </tr>\n",
       "    <tr>\n",
       "      <th>72182</th>\n",
       "      <td>73yom pt was putting on his shirt when he fell backwards hitting upper back pain floor painful dx compression fracture thoracic</td>\n",
       "      <td>[be, put, fell, hit]</td>\n",
       "      <td>putting on his shirt</td>\n",
       "    </tr>\n",
       "    <tr>\n",
       "      <th>52710</th>\n",
       "      <td>86 yof biba from home following a fall, had tripped over a flower pot, c/o pain to right side of her pelvic area, had been drinking alcohol with the family, bal - 184, dx: pubic rami fracture</td>\n",
       "      <td>[follow, have, trip, have, be, drink]</td>\n",
       "      <td>tripped over a flower pot</td>\n",
       "    </tr>\n",
       "    <tr>\n",
       "      <th>95673</th>\n",
       "      <td>80yof to er w/ daughter, daughter states that 2 days ago pt had fall on stairs while climbing them , pt denies hitting head orloc, pt has right knee pain &amp; hip pain, pt also had fall today when getting up from chair dx fall, clsd fracture of right hip</td>\n",
       "      <td>[er, pt, have, fall, climb, hit, have, have, fall, get]</td>\n",
       "      <td>climbing stairs, getting up from chair</td>\n",
       "    </tr>\n",
       "    <tr>\n",
       "      <th>61629</th>\n",
       "      <td>75 yof tripped on clothing iron cord hit head dx hematoma forehead, chi</td>\n",
       "      <td>[trip, hit]</td>\n",
       "      <td>tripped on clothing iron cord</td>\n",
       "    </tr>\n",
       "    <tr>\n",
       "      <th>10950</th>\n",
       "      <td>87yof fall to floor walking to walker. unwitnessed, lives alone. found by son. + abrasion to lower leg, rectal bleed while on ***dx fx acetabulum, gastrointestinal hemorrhage</td>\n",
       "      <td>[walk, walker, live, find]</td>\n",
       "      <td>walking to walker</td>\n",
       "    </tr>\n",
       "    <tr>\n",
       "      <th>11301</th>\n",
       "      <td>68 yom was removing a post in his yard and fell landing on the wheel of the lawn mower on his right lower back. dx: right rib fracture</td>\n",
       "      <td>[be, remove, fell, land]</td>\n",
       "      <td>removing a post</td>\n",
       "    </tr>\n",
       "    <tr>\n",
       "      <th>76681</th>\n",
       "      <td>70yof with lumbar back pain following mechanical fall while stepping onto a stool to get back iner her bed at home. shse fell backwards, striking lumbar back and sacrum on the ground. reports low lumbar back pain. dx: lumbar strain;lumbar contusion</td>\n",
       "      <td>[follow, step, get, fell, strike]</td>\n",
       "      <td>stepping onto a stool</td>\n",
       "    </tr>\n",
       "    <tr>\n",
       "      <th>34533</th>\n",
       "      <td>86 yom trying to sit in chair and fell  dx;  chi, head lac</td>\n",
       "      <td>[try, sit, fell]</td>\n",
       "      <td>trying to sit in chair</td>\n",
       "    </tr>\n",
       "    <tr>\n",
       "      <th>98026</th>\n",
       "      <td>66yof, tripped over own shoe walking the dog and fell dx: closed fracture of distal end of left radius; dislocation of left ulnar styloid</td>\n",
       "      <td>[trip, walk, fell]</td>\n",
       "      <td>tripped over own shoe</td>\n",
       "    </tr>\n",
       "    <tr>\n",
       "      <th>2486</th>\n",
       "      <td>89yof was trying to open her mailbox and fell and sustained a contusion to hip</td>\n",
       "      <td>[be, try, open, fell, sustain, hip]</td>\n",
       "      <td>trying to open her mailbox</td>\n",
       "    </tr>\n",
       "    <tr>\n",
       "      <th>30861</th>\n",
       "      <td>83yof  police went to pt's home for well-being check &amp; found pt on floor; has mult abrasions/bruising to lt thigh,lt knee, rt knee &amp; sternum    dx:  rhabdomyolysis     #</td>\n",
       "      <td>[go, pt, find, have, abrasions/bruising, lt, rt]</td>\n",
       "      <td>found pt on floor</td>\n",
       "    </tr>\n",
       "    <tr>\n",
       "      <th>58861</th>\n",
       "      <td>74 yof tripped over shoes and fell in floor  dx;  l hip fx</td>\n",
       "      <td>[trip, fell]</td>\n",
       "      <td>tripped over shoes</td>\n",
       "    </tr>\n",
       "    <tr>\n",
       "      <th>45461</th>\n",
       "      <td>93yom was getting up from his wheelchair when he lost his balance and fell to the floor onto left hip dx: fractured left hip</td>\n",
       "      <td>[be, get, lose, fell, fracture, leave]</td>\n",
       "      <td>getting up from his wheelchair</td>\n",
       "    </tr>\n",
       "    <tr>\n",
       "      <th>59372</th>\n",
       "      <td>80yom fell while descending stairs, dx head inj with altered mental status</td>\n",
       "      <td>[fell, descend]</td>\n",
       "      <td>descending stairs</td>\n",
       "    </tr>\n",
       "  </tbody>\n",
       "</table>\n",
       "</div>"
      ],
      "text/plain": [
       "                                                                                                                                                                                                                                                         Narrative  \\\n",
       "57498                                                                                                        78yom was leaning forward to pick up something off the floor and lost his balance and fell striking his head dx: closed head injury; laceration scalp   \n",
       "91762                                                                                                     70 yof riding lawnmower accident, went over embankment, was in yard over night found by family. dx critical polytrauma, chest trauma, closed head injury   \n",
       "61136                                                68yom presents after a fall from a chair at the nursing home. pt states he slid off of the chair and often does this to get pain meds. dx: chronic midline lower back pain, low level fall, l2 compression fx   \n",
       "395                                                                                                                                                                                             69yowm tripped and landed on floor at home. dx right tib fracture*   \n",
       "81990                                                                                                  80 yom sat down on a rolling chair and was leaning over to dry off his dog when the chair slid out from under him.dx: thoracic compression fracture closed.   \n",
       "60766                                                                                                  65yof was walking in a parking lot when she got her legs caught up in a discarded plastic bag and she fell onto outstretched arm dx: fractured right radius   \n",
       "72182                                                                                                                              73yom pt was putting on his shirt when he fell backwards hitting upper back pain floor painful dx compression fracture thoracic   \n",
       "52710                                                              86 yof biba from home following a fall, had tripped over a flower pot, c/o pain to right side of her pelvic area, had been drinking alcohol with the family, bal - 184, dx: pubic rami fracture   \n",
       "95673  80yof to er w/ daughter, daughter states that 2 days ago pt had fall on stairs while climbing them , pt denies hitting head orloc, pt has right knee pain & hip pain, pt also had fall today when getting up from chair dx fall, clsd fracture of right hip   \n",
       "61629                                                                                                                                                                                      75 yof tripped on clothing iron cord hit head dx hematoma forehead, chi   \n",
       "10950                                                                               87yof fall to floor walking to walker. unwitnessed, lives alone. found by son. + abrasion to lower leg, rectal bleed while on ***dx fx acetabulum, gastrointestinal hemorrhage   \n",
       "11301                                                                                                                       68 yom was removing a post in his yard and fell landing on the wheel of the lawn mower on his right lower back. dx: right rib fracture   \n",
       "76681     70yof with lumbar back pain following mechanical fall while stepping onto a stool to get back iner her bed at home. shse fell backwards, striking lumbar back and sacrum on the ground. reports low lumbar back pain. dx: lumbar strain;lumbar contusion   \n",
       "34533                                                                                                                                                                                                   86 yom trying to sit in chair and fell  dx;  chi, head lac   \n",
       "98026                                                                                                                    66yof, tripped over own shoe walking the dog and fell dx: closed fracture of distal end of left radius; dislocation of left ulnar styloid   \n",
       "2486                                                                                                                                                                                89yof was trying to open her mailbox and fell and sustained a contusion to hip   \n",
       "30861                                                                                    83yof  police went to pt's home for well-being check & found pt on floor; has mult abrasions/bruising to lt thigh,lt knee, rt knee & sternum    dx:  rhabdomyolysis     #   \n",
       "58861                                                                                                                                                                                                   74 yof tripped over shoes and fell in floor  dx;  l hip fx   \n",
       "45461                                                                                                                                 93yom was getting up from his wheelchair when he lost his balance and fell to the floor onto left hip dx: fractured left hip   \n",
       "59372                                                                                                                                                                                   80yom fell while descending stairs, dx head inj with altered mental status   \n",
       "\n",
       "                                                         Morph  \\\n",
       "57498                     [be, lean, pick, lose, fell, strike]   \n",
       "91762                           [rid, go, be, find, dx, close]   \n",
       "61136                                     [pt, slide, do, get]   \n",
       "395                                                 [land, dx]   \n",
       "81990                       [sit, be, lean, dry, slide, close]   \n",
       "60766     [be, walk, get, catch, fell, outstretched, fracture]   \n",
       "72182                                     [be, put, fell, hit]   \n",
       "52710                    [follow, have, trip, have, be, drink]   \n",
       "95673  [er, pt, have, fall, climb, hit, have, have, fall, get]   \n",
       "61629                                              [trip, hit]   \n",
       "10950                               [walk, walker, live, find]   \n",
       "11301                                 [be, remove, fell, land]   \n",
       "76681                        [follow, step, get, fell, strike]   \n",
       "34533                                         [try, sit, fell]   \n",
       "98026                                       [trip, walk, fell]   \n",
       "2486                       [be, try, open, fell, sustain, hip]   \n",
       "30861         [go, pt, find, have, abrasions/bruising, lt, rt]   \n",
       "58861                                             [trip, fell]   \n",
       "45461                   [be, get, lose, fell, fracture, leave]   \n",
       "59372                                          [fell, descend]   \n",
       "\n",
       "                                                            ChatGPT  \n",
       "57498            leaning forward to pick up something off the floor  \n",
       "91762               riding lawnmower accident, went over embankment  \n",
       "61136                                         slid off of the chair  \n",
       "395                                     tripped and landed on floor  \n",
       "81990  sat down on a rolling chair, leaning over to dry off his dog  \n",
       "60766             got her legs caught up in a discarded plastic bag  \n",
       "72182                                          putting on his shirt  \n",
       "52710                                     tripped over a flower pot  \n",
       "95673                        climbing stairs, getting up from chair  \n",
       "61629                                 tripped on clothing iron cord  \n",
       "10950                                             walking to walker  \n",
       "11301                                               removing a post  \n",
       "76681                                         stepping onto a stool  \n",
       "34533                                        trying to sit in chair  \n",
       "98026                                         tripped over own shoe  \n",
       "2486                                     trying to open her mailbox  \n",
       "30861                                             found pt on floor  \n",
       "58861                                            tripped over shoes  \n",
       "45461                                getting up from his wheelchair  \n",
       "59372                                             descending stairs  "
      ]
     },
     "execution_count": 15,
     "metadata": {},
     "output_type": "execute_result"
    }
   ],
   "source": [
    "df_ret[~df_ret[\"ChatGPT\"].str.contains(\"fell|fall\")][[\"Narrative\",\"Morph\",\"ChatGPT\"]].head(20)"
   ]
  },
  {
   "cell_type": "markdown",
   "id": "69671d0a-078d-4564-9291-c40da9640f75",
   "metadata": {
    "tags": []
   },
   "source": [
    "#### Cooccurrence Network"
   ]
  },
  {
   "cell_type": "code",
   "execution_count": 16,
   "id": "4a3efe19-8c55-43b9-ae03-a43419e3d3a5",
   "metadata": {},
   "outputs": [],
   "source": [
    "# 描画する単語数の限定\n",
    "def filter_word_by_frequency(texts, freq_top_n=0):\n",
    "    \"\"\" 元の書く文章の出現単語リストから上位N件の単語だけを残し返す。\n",
    "        N個の単語リストの各中身の要素を精査する。\n",
    "    \"\"\"\n",
    "    # Return the original texts\n",
    "    if freq_top_n <= 0:\n",
    "        return texts\n",
    "    \n",
    "    # Count word occurrences\n",
    "    c_words = Counter([word for text in texts for word in set(text)])\n",
    "    \n",
    "    # Get the top N words\n",
    "    top_words = [word for word,cnt in c_words.most_common(freq_top_n)]\n",
    "    \n",
    "    # Filter the original word lists to only include the top N words\n",
    "    texts_filtered = []\n",
    "    for text in texts:\n",
    "        filtered = list(set(top_words).intersection(set(text)))\n",
    "        if len(filtered) > 0:\n",
    "            texts_filtered.append(filtered)\n",
    "            \n",
    "    return texts_filtered\n",
    "\n",
    "# plotly config\n",
    "plotly_config = dict({\n",
    "    # 'scrollZoom':'cartesian',\n",
    "    'scrollZoom':True,\n",
    "    'displaylogo':False,\n",
    "    # 'modeBarButtonsToAdd':['drawopenpath',' drawrect','eraseshape\"],\n",
    "    'modeBarButtonsToRemove':[\"zoom\",\"select\",\" lasso2d\"],\n",
    "})\n",
    "\n",
    "# ノードサイズの正規化\n",
    "def norm_node_sizes(vals, adjuster=100):\n",
    "    \"\"\"Normalize the node sizes for plotting.\"\"\"\n",
    "    \n",
    "    v_max = max(vals)\n",
    "    normalized_vals = [val / v_max * adjuster for val in vals]\n",
    "    \n",
    "    return normalized_vals\n",
    "\n",
    "# エッジの計算\n",
    "def calc_jaccard_coef(texts):\n",
    "    \"\"\"\n",
    "    Args:\n",
    "        texts (list): 各文章単位の単語リスト\n",
    "\n",
    "    Returns:\n",
    "        df_word_cnt (DataFrame): ジャッカード係数を含むデータフレーム\n",
    "    \"\"\"\n",
    "    \n",
    "    # 8語以上のテキストだけを保持\n",
    "    # texts = [text for text in texts if len(text)>8]\n",
    "    \n",
    "    # 各行における2語の組み合わせを生成\n",
    "    word_cmb_texts = [list(itertools.combinations(text, 2)) for text in texts]\n",
    "    \n",
    "    # 組み合わせの平坦化 (重複許す)\n",
    "    word_cmbs = sum(word_cmb_texts, [])\n",
    "    \n",
    "    # 単語Aと単語Bの積集合カウント\n",
    "    word_cmb_count = Counter(word_cmbs)\n",
    "    \n",
    "    # 単語Aと単語Bの積集合の算出\n",
    "    word_A = [k[0] for k in word_cmb_count.keys()]\n",
    "    word_B = [k[1] for k in word_cmb_count.keys()]\n",
    "    intersection_cnt = list(word_cmb_count.values())\n",
    "    \n",
    "    # データフレーム化\n",
    "    df_word_cnt = pd.DataFrame({\n",
    "        'WORD_A': word_A, \n",
    "        'WORD_B': word_B, \n",
    "        'ITS_CNT': intersection_cnt\n",
    "    })\n",
    "\n",
    "    # 単語Aの和集合の算出\n",
    "    word_A_cnt = df_word_cnt['WORD_A'].value_counts()\n",
    "    df_A = word_A_cnt.reset_index()\n",
    "    df_A.rename(columns={'count': 'WORD_A_CNT'}, inplace=True)\n",
    "\n",
    "    # 単語Bの和集合の算出\n",
    "    word_B_cnt = df_word_cnt['WORD_B'].value_counts()\n",
    "    df_B = word_B_cnt.reset_index()\n",
    "    df_B.rename(columns={'count': 'WORD_B_CNT'}, inplace=True)\n",
    "\n",
    "    # 左外部結合\n",
    "    df_word_cnt = pd.merge(df_word_cnt, df_A, how='left', on='WORD_A')\n",
    "    df_word_cnt = pd.merge(df_word_cnt, df_B, how='left', on='WORD_B')\n",
    "\n",
    "    # 同じ単語間の共起は除外\n",
    "    df_word_cnt = df_word_cnt[df_word_cnt[\"WORD_A\"] != df_word_cnt[\"WORD_B\"]]\n",
    "\n",
    "    # 単語A、単語Bの和集合カウント\n",
    "    df_word_cnt['UNION_CNT'] = df_word_cnt['WORD_A_CNT'] + df_word_cnt['WORD_B_CNT'] - df_word_cnt['ITS_CNT']\n",
    "\n",
    "    # Jaccard係数の算出\n",
    "    df_word_cnt['JACCARD'] = df_word_cnt['ITS_CNT'] / df_word_cnt['UNION_CNT']\n",
    "\n",
    "    return df_word_cnt\n",
    "\n",
    "# ネットワークの構築\n",
    "def build_interactive_network(G, pos, node_sizes, node_colors):\n",
    "      \n",
    "    # edgeデータの作成\n",
    "    edge_x = []\n",
    "    edge_y = []\n",
    "    for edge in G.edges():\n",
    "        x0, y0 = pos[edge[0]]\n",
    "        x1, y1 = pos[edge[1]]\n",
    "        edge_x.append(x0)\n",
    "        edge_x.append(x1)\n",
    "        edge_x.append(None)\n",
    "        edge_y.append(y0)\n",
    "        edge_y.append(y1)\n",
    "        edge_y.append(None)\n",
    "    \n",
    "    # edgeデータの描画\n",
    "    edge_trace = go.Scatter(\n",
    "        x=edge_x, y=edge_y,\n",
    "        line=dict(width=0.5,color='#888'),\n",
    "        # hoverinfo='none',\n",
    "        opacity=1,\n",
    "        mode='lines')\n",
    "  \n",
    "    # nodeデータの作成\n",
    "    node_x = []\n",
    "    node_y = []\n",
    "    for node in G.nodes():\n",
    "        x, y = pos[node]\n",
    "        node_x.append(x)\n",
    "        node_y.append(y)\n",
    "    \n",
    "    # ホバー時の表示テキスト作成\n",
    "    hover_texts = [f\"{word}:{val}\" for word,val in zip(list(G.nodes()),node_sizes)]\n",
    "  \n",
    "    # nodeの色、サイズ、マウスオーバーしたときに表示するテキストの設定\n",
    "    node_trace = go.Scatter(\n",
    "        x=node_x,\n",
    "        y=node_y,\n",
    "        text=list(G.nodes()),\n",
    "        hovertext=hover_texts,#node_sizes,\n",
    "        textposition='top center',\n",
    "        mode='markers+text',\n",
    "        hoverinfo='text',\n",
    "        marker=dict(\n",
    "            showscale=True,\n",
    "            colorscale='Portland',\n",
    "            reversescale=False,\n",
    "            color=node_colors,\n",
    "            size=norm_node_sizes(node_sizes), # size=node_sizes,\n",
    "            colorbar=dict(\n",
    "                thickness=16,\n",
    "                title='Word Appearance',\n",
    "            ),\n",
    "            line_width=2))\n",
    "     \n",
    "    data = [edge_trace, node_trace]\n",
    " \n",
    "    # レイアウトの設定\n",
    "    layout=go.Layout(\n",
    "                paper_bgcolor='rgba(0,0,0,0)',\n",
    "                plot_bgcolor='rgba(0,0,0,0)',\n",
    "                showlegend=False,\n",
    "                hovermode='closest',\n",
    "                # margin=dict(b=10, l=5, r=5, t=10),\n",
    "                margin=dict(b=10, l=5, r=5, t=0),\n",
    "                font=dict(size=14),\n",
    "                xaxis=dict(showgrid=False, zeroline=False, showticklabels=False),\n",
    "                yaxis = dict(showgrid = False, zeroline = False, showticklabels = False))\n",
    " \n",
    "    fig = go.Figure(data=data, layout=layout)\n",
    "    fig.update_layout(\n",
    "        xaxis_title=None,\n",
    "        # title=dict(text=f\"頻出単語を表示\",font=dict(size=30)), \n",
    "        dragmode='pan',\n",
    "        margin=dict(b=0,l=0,r=0,t=20),\n",
    "        # title_pad=dict(b=0,l=10,r=0,t=15),\n",
    "        autosize=False, width=1000, height=500\n",
    "    )\n",
    "    # fig.show()\n",
    "    fig.show(config=plotly_config)\n",
    "    \n",
    "# 共起ネットワークの描画の準備とネットワーク図の取得\n",
    "def get_cooccurrence_network(texts, edge_threshold=20, freq_top_n=15):\n",
    "    \n",
    "    # 頻出topN単語にフィルタリング\n",
    "    texts = filter_word_by_frequency(texts, freq_top_n=freq_top_n)\n",
    "    # 単語リストの結合\n",
    "    words_list = sum(texts,[])\n",
    "    # 各単語の出現回数\n",
    "    word_count = Counter(words_list)\n",
    "\n",
    "    # 共起カウントとJaccard係数を算出\n",
    "    df_graph = calc_jaccard_coef(texts)\n",
    "\n",
    "    # 重みの分布を確認\n",
    "    # df_graph [\"ITS_CNT\"].describe()\n",
    "\n",
    "    # 単語ペア配列を取得\n",
    "    word_pairs = df_graph[[\"WORD_A\",\"WORD_B\"]].values\n",
    "\n",
    "    # 単語ぺア間の頻度を取得\n",
    "    edge_weights = df_graph[[\"ITS_CNT\"]].values.reshape(-1)\n",
    "    # edge_weights = df_graph[[“JACCARD”]] # 精度悪いので使用しない\n",
    "\n",
    "    # 単語ペアと重みの長さの確認\n",
    "    assert len(word_pairs)==len(edge_weights)\n",
    "\n",
    "    # ノード(単語)の作成\n",
    "    # ※ 抽出された単語が一文の中に1つしかない場合の単語はここでは除去されている\n",
    "    nodes = sorted(set(word_pairs.reshape(-1)))\n",
    "    \n",
    "    # グラフの作成\n",
    "    G = nx.Graph ()\n",
    "    # 接点／単語（node）の追加\n",
    "    G.add_nodes_from(nodes)\n",
    "    # print('Number of nodes: {}.format (G.number of nodes()))\n",
    "    \n",
    "    # 線（edge）の追加\n",
    "    # edge_thresholdで線を結ぶか判定\n",
    "    for i in range(len(word_pairs)):\n",
    "        pair = word_pairs [i]\n",
    "        edge_weight = edge_weights[i]\n",
    "        if edge_weight >= edge_threshold:\n",
    "            G.add_edge(pair[0], pair[1])\n",
    "    # print('Number of edges: (}'.format(G.number_of_edges()))\n",
    "    \n",
    "    # ノードが存在しない場合\n",
    "    if len(G.nodes())<=1:\n",
    "        return None\n",
    "                                    \n",
    "    # 孤立したnodeを削除\n",
    "    isolated = [n for n in G.nodes if len([i for i in nx.all_neighbors(G,n)]) == 0]\n",
    "    for n in isolated:\n",
    "        G.remove_node(n)\n",
    "    # print('Number of nodes: {}'.format(G.number_of_nodes()))\n",
    "\n",
    "    # 単語出現数でnodeサイズを変更する\n",
    "    # for n in G.nodes():\n",
    "    #     print(n)\n",
    "    word_size_dic = {node:word_count[node] for node in G.nodes()}\n",
    "\n",
    "    # 名文章で出てくる割合\n",
    "    # 既に単語は1文1カウントになっている\n",
    "    n_data = len(texts)\n",
    "    word_freq_dic = {key:val/n_data for key, val in word_size_dic.items()}\n",
    "    \n",
    "    # グラフレイアウト\n",
    "    pos = nx.spring_layout(G,k=None) # k = node間反発係数\n",
    "    \n",
    "    # nodeの色をページランクアルゴリズムによる重要度により変える\n",
    "    # pr = nx_pagerank(G)\n",
    "    \n",
    "    # print(word_size_dic)\n",
    "    \n",
    "    # インタラクティブな共起ネットワークの可視化\n",
    "    fig = build_interactive_network (G, pos, list(word_size_dic.values()), list(word_freq_dic.values()))\n",
    "    # fig = build_Cooccurrence_network(G, pos, list(word_size_dic.values()), list(pr.values()))\n",
    "    return fig"
   ]
  },
  {
   "cell_type": "code",
   "execution_count": 18,
   "id": "83946235-0e78-435d-8ebd-9616a861e1ee",
   "metadata": {},
   "outputs": [
    {
     "data": {
      "application/vnd.plotly.v1+json": {
       "config": {
        "displaylogo": false,
        "modeBarButtonsToRemove": [
         "zoom",
         "select",
         " lasso2d"
        ],
        "plotlyServerURL": "https://plot.ly",
        "responsive": true,
        "scrollZoom": true
       },
       "data": [
        {
         "line": {
          "color": "#888",
          "width": 0.5
         },
         "mode": "lines",
         "opacity": 1,
         "type": "scatter",
         "x": [
          -0.10046188078130432,
          0.28630293754416986,
          null,
          -0.10046188078130432,
          -0.6209260410899476,
          null,
          -0.10046188078130432,
          0.08342475383978253,
          null,
          -0.10046188078130432,
          -0.5293709609401063,
          null,
          -0.10046188078130432,
          -0.46316896661655155,
          null,
          -0.10046188078130432,
          0.03548724174816162,
          null,
          -0.10046188078130432,
          -0.14651356625331866,
          null,
          -0.10046188078130432,
          -0.44102131489483115,
          null,
          -0.10046188078130432,
          -0.46262274643017814,
          null,
          -0.10046188078130432,
          -0.35826582872979873,
          null,
          -0.10046188078130432,
          0.23388002933194743,
          null,
          -0.10046188078130432,
          -0.2913096075155415,
          null,
          -0.10046188078130432,
          -0.1944220286977573,
          null,
          -0.10046188078130432,
          0.15053022784507483,
          null,
          -0.10046188078130432,
          0.5723979655786106,
          null,
          -0.10046188078130432,
          -0.14072642589260673,
          null,
          -0.10046188078130432,
          -0.02652744043846881,
          null,
          0.6438861381318268,
          0.08342475383978253,
          null,
          -0.5293709609401063,
          -0.14651356625331866,
          null,
          -0.5293709609401063,
          0.08342475383978253,
          null,
          -0.5293709609401063,
          -0.46262274643017814,
          null,
          -0.02652744043846881,
          -0.2913096075155415,
          null,
          -0.02652744043846881,
          0.08342475383978253,
          null,
          -0.8533569833717556,
          -0.46316896661655155,
          null,
          -0.8533569833717556,
          0.08342475383978253,
          null,
          0.15053022784507483,
          -0.1944220286977573,
          null,
          0.15053022784507483,
          -0.2913096075155415,
          null,
          0.15053022784507483,
          -0.14651356625331866,
          null,
          0.08342475383978253,
          -0.6209260410899476,
          null,
          0.08342475383978253,
          0.28630293754416986,
          null,
          0.08342475383978253,
          -0.1944220286977573,
          null,
          0.08342475383978253,
          -0.2913096075155415,
          null,
          0.08342475383978253,
          0.6047697844585749,
          null,
          0.08342475383978253,
          -0.14651356625331866,
          null,
          0.08342475383978253,
          0.9077501234483566,
          null,
          0.08342475383978253,
          1,
          null,
          0.08342475383978253,
          -0.44102131489483115,
          null,
          0.08342475383978253,
          -0.46262274643017814,
          null,
          0.08342475383978253,
          -0.35826582872979873,
          null,
          0.08342475383978253,
          0.23388002933194743,
          null,
          0.08342475383978253,
          -0.31411065609935995,
          null,
          0.08342475383978253,
          -0.14072642589260673,
          null,
          0.08342475383978253,
          0.5723979655786106,
          null,
          0.08342475383978253,
          -0.1978708554139068,
          null,
          0.08342475383978253,
          -0.46316896661655155,
          null,
          0.08342475383978253,
          0.3960455396131865,
          null,
          0.08342475383978253,
          0.9120018634627173,
          null,
          0.08342475383978253,
          0.03548724174816162,
          null,
          -0.46316896661655155,
          0.03548724174816162,
          null,
          -0.46316896661655155,
          -0.1944220286977573,
          null,
          -0.46316896661655155,
          -0.6858013018369746,
          null,
          0.23388002933194743,
          -0.14072642589260673,
          null,
          0.23388002933194743,
          0.3960455396131865,
          null,
          -0.2913096075155415,
          -0.1944220286977573,
          null,
          -0.2913096075155415,
          -0.14651356625331866,
          null,
          -0.2913096075155415,
          -0.46262274643017814,
          null,
          -0.2913096075155415,
          -0.6209260410899476,
          null,
          -0.2913096075155415,
          -0.44102131489483115,
          null,
          -0.2913096075155415,
          -0.35826582872979873,
          null,
          0.03548724174816162,
          -0.1944220286977573,
          null,
          -0.1944220286977573,
          -0.6858013018369746,
          null,
          -0.1944220286977573,
          -0.14651356625331866,
          null,
          -0.1944220286977573,
          -0.35826582872979873,
          null,
          -0.14651356625331866,
          -0.6858013018369746,
          null,
          -0.14651356625331866,
          -0.35826582872979873,
          null,
          -0.14651356625331866,
          -0.46262274643017814,
          null,
          -0.14651356625331866,
          -0.14072642589260673,
          null,
          -0.14651356625331866,
          0.3960455396131865,
          null,
          -0.14651356625331866,
          0.28630293754416986,
          null,
          -0.31411065609935995,
          -0.35826582872979873,
          null,
          -0.31411065609935995,
          -0.46262274643017814,
          null,
          -0.14072642589260673,
          -0.1978708554139068,
          null,
          0.28630293754416986,
          0.6047697844585749,
          null,
          -0.6858013018369746,
          -0.6209260410899476,
          null,
          -0.6209260410899476,
          -0.35826582872979873,
          null,
          -0.35826582872979873,
          -0.46262274643017814,
          null
         ],
         "y": [
          -0.034818772580268956,
          0.49471394826323917,
          null,
          -0.034818772580268956,
          0.2035120497573745,
          null,
          -0.034818772580268956,
          -0.04758084796595272,
          null,
          -0.034818772580268956,
          -0.23545939627071064,
          null,
          -0.034818772580268956,
          0.4430076634101013,
          null,
          -0.034818772580268956,
          0.5208878010045026,
          null,
          -0.034818772580268956,
          0.12003507364575922,
          null,
          -0.034818772580268956,
          -0.5144656509887535,
          null,
          -0.034818772580268956,
          0.0818253344658868,
          null,
          -0.034818772580268956,
          0.26876895020891217,
          null,
          -0.034818772580268956,
          -0.5866057893192292,
          null,
          -0.034818772580268956,
          -0.1008418118886298,
          null,
          -0.034818772580268956,
          0.40284686429975936,
          null,
          -0.034818772580268956,
          0.24561715930618924,
          null,
          -0.034818772580268956,
          -0.054521005099757214,
          null,
          -0.034818772580268956,
          -0.4839698133418279,
          null,
          -0.034818772580268956,
          -0.5904022178261434,
          null,
          -0.7964394005387031,
          -0.04758084796595272,
          null,
          -0.23545939627071064,
          0.12003507364575922,
          null,
          -0.23545939627071064,
          -0.04758084796595272,
          null,
          -0.23545939627071064,
          0.0818253344658868,
          null,
          -0.5904022178261434,
          -0.1008418118886298,
          null,
          -0.5904022178261434,
          -0.04758084796595272,
          null,
          0.06049316786525173,
          0.4430076634101013,
          null,
          0.06049316786525173,
          -0.04758084796595272,
          null,
          0.24561715930618924,
          0.40284686429975936,
          null,
          0.24561715930618924,
          -0.1008418118886298,
          null,
          0.24561715930618924,
          0.12003507364575922,
          null,
          -0.04758084796595272,
          0.2035120497573745,
          null,
          -0.04758084796595272,
          0.49471394826323917,
          null,
          -0.04758084796595272,
          0.40284686429975936,
          null,
          -0.04758084796595272,
          -0.1008418118886298,
          null,
          -0.04758084796595272,
          0.6689012803502764,
          null,
          -0.04758084796595272,
          0.12003507364575922,
          null,
          -0.04758084796595272,
          0.34598306572118276,
          null,
          -0.04758084796595272,
          -0.03732754780434622,
          null,
          -0.04758084796595272,
          -0.5144656509887535,
          null,
          -0.04758084796595272,
          0.0818253344658868,
          null,
          -0.04758084796595272,
          0.26876895020891217,
          null,
          -0.04758084796595272,
          -0.5866057893192292,
          null,
          -0.04758084796595272,
          0.6647533167914489,
          null,
          -0.04758084796595272,
          -0.4839698133418279,
          null,
          -0.04758084796595272,
          -0.054521005099757214,
          null,
          -0.04758084796595272,
          -0.9021741254827139,
          null,
          -0.04758084796595272,
          0.4430076634101013,
          null,
          -0.04758084796595272,
          -0.34157985288391934,
          null,
          -0.04758084796595272,
          -0.44093205214128606,
          null,
          -0.04758084796595272,
          0.5208878010045026,
          null,
          0.4430076634101013,
          0.5208878010045026,
          null,
          0.4430076634101013,
          0.40284686429975936,
          null,
          0.4430076634101013,
          0.645772609042356,
          null,
          -0.5866057893192292,
          -0.4839698133418279,
          null,
          -0.5866057893192292,
          -0.34157985288391934,
          null,
          -0.1008418118886298,
          0.40284686429975936,
          null,
          -0.1008418118886298,
          0.12003507364575922,
          null,
          -0.1008418118886298,
          0.0818253344658868,
          null,
          -0.1008418118886298,
          0.2035120497573745,
          null,
          -0.1008418118886298,
          -0.5144656509887535,
          null,
          -0.1008418118886298,
          0.26876895020891217,
          null,
          0.5208878010045026,
          0.40284686429975936,
          null,
          0.40284686429975936,
          0.645772609042356,
          null,
          0.40284686429975936,
          0.12003507364575922,
          null,
          0.40284686429975936,
          0.26876895020891217,
          null,
          0.12003507364575922,
          0.645772609042356,
          null,
          0.12003507364575922,
          0.26876895020891217,
          null,
          0.12003507364575922,
          0.0818253344658868,
          null,
          0.12003507364575922,
          -0.4839698133418279,
          null,
          0.12003507364575922,
          -0.34157985288391934,
          null,
          0.12003507364575922,
          0.49471394826323917,
          null,
          0.6647533167914489,
          0.26876895020891217,
          null,
          0.6647533167914489,
          0.0818253344658868,
          null,
          -0.4839698133418279,
          -0.9021741254827139,
          null,
          0.49471394826323917,
          0.6689012803502764,
          null,
          0.645772609042356,
          0.2035120497573745,
          null,
          0.2035120497573745,
          0.26876895020891217,
          null,
          0.26876895020891217,
          0.0818253344658868,
          null
         ]
        },
        {
         "hoverinfo": "text",
         "hovertext": [
          "be:81",
          "chest:6",
          "close:19",
          "do:7",
          "dx:9",
          "fall:15",
          "fell:206",
          "find:18",
          "forehead:6",
          "fracture:13",
          "get:37",
          "go:9",
          "have:35",
          "hit:50",
          "land:19",
          "leave:23",
          "lose:15",
          "miss:6",
          "pt:11",
          "sit:8",
          "slip:23",
          "stand:8",
          "strike:28",
          "sustain:5",
          "trip:43",
          "try:6",
          "use:7",
          "walk:27"
         ],
         "marker": {
          "color": [
           0.28825622775800713,
           0.021352313167259787,
           0.06761565836298933,
           0.02491103202846975,
           0.03202846975088968,
           0.05338078291814947,
           0.7330960854092526,
           0.06405693950177936,
           0.021352313167259787,
           0.046263345195729534,
           0.13167259786476868,
           0.03202846975088968,
           0.12455516014234876,
           0.17793594306049823,
           0.06761565836298933,
           0.08185053380782918,
           0.05338078291814947,
           0.021352313167259787,
           0.03914590747330961,
           0.028469750889679714,
           0.08185053380782918,
           0.028469750889679714,
           0.099644128113879,
           0.017793594306049824,
           0.15302491103202848,
           0.021352313167259787,
           0.02491103202846975,
           0.09608540925266904
          ],
          "colorbar": {
           "thickness": 16,
           "title": {
            "text": "Word Appearance"
           }
          },
          "colorscale": [
           [
            0,
            "rgb(12,51,131)"
           ],
           [
            0.25,
            "rgb(10,136,186)"
           ],
           [
            0.5,
            "rgb(242,211,56)"
           ],
           [
            0.75,
            "rgb(242,143,56)"
           ],
           [
            1,
            "rgb(217,30,30)"
           ]
          ],
          "line": {
           "width": 2
          },
          "reversescale": false,
          "showscale": true,
          "size": [
           39.32038834951456,
           2.912621359223301,
           9.223300970873787,
           3.3980582524271843,
           4.368932038834951,
           7.281553398058252,
           100,
           8.737864077669903,
           2.912621359223301,
           6.310679611650485,
           17.96116504854369,
           4.368932038834951,
           16.990291262135923,
           24.271844660194176,
           9.223300970873787,
           11.165048543689322,
           7.281553398058252,
           2.912621359223301,
           5.339805825242718,
           3.8834951456310676,
           11.165048543689322,
           3.8834951456310676,
           13.592233009708737,
           2.4271844660194173,
           20.87378640776699,
           2.912621359223301,
           3.3980582524271843,
           13.106796116504855
          ]
         },
         "mode": "markers+text",
         "text": [
          "be",
          "chest",
          "close",
          "do",
          "dx",
          "fall",
          "fell",
          "find",
          "forehead",
          "fracture",
          "get",
          "go",
          "have",
          "hit",
          "land",
          "leave",
          "lose",
          "miss",
          "pt",
          "sit",
          "slip",
          "stand",
          "strike",
          "sustain",
          "trip",
          "try",
          "use",
          "walk"
         ],
         "textposition": "top center",
         "type": "scatter",
         "x": [
          -0.10046188078130432,
          0.6438861381318268,
          -0.5293709609401063,
          -0.02652744043846881,
          -0.8533569833717556,
          0.15053022784507483,
          0.08342475383978253,
          -0.46316896661655155,
          0.9120018634627173,
          0.23388002933194743,
          -0.2913096075155415,
          0.03548724174816162,
          -0.1944220286977573,
          -0.14651356625331866,
          -0.31411065609935995,
          -0.14072642589260673,
          0.28630293754416986,
          0.9077501234483566,
          -0.6858013018369746,
          -0.1978708554139068,
          -0.44102131489483115,
          0.3960455396131865,
          -0.6209260410899476,
          1,
          -0.35826582872979873,
          0.5723979655786106,
          0.6047697844585749,
          -0.46262274643017814
         ],
         "y": [
          -0.034818772580268956,
          -0.7964394005387031,
          -0.23545939627071064,
          -0.5904022178261434,
          0.06049316786525173,
          0.24561715930618924,
          -0.04758084796595272,
          0.4430076634101013,
          -0.44093205214128606,
          -0.5866057893192292,
          -0.1008418118886298,
          0.5208878010045026,
          0.40284686429975936,
          0.12003507364575922,
          0.6647533167914489,
          -0.4839698133418279,
          0.49471394826323917,
          0.34598306572118276,
          0.645772609042356,
          -0.9021741254827139,
          -0.5144656509887535,
          -0.34157985288391934,
          0.2035120497573745,
          -0.03732754780434622,
          0.26876895020891217,
          -0.054521005099757214,
          0.6689012803502764,
          0.0818253344658868
         ]
        }
       ],
       "layout": {
        "autosize": false,
        "dragmode": "pan",
        "font": {
         "size": 14
        },
        "height": 500,
        "hovermode": "closest",
        "margin": {
         "b": 0,
         "l": 0,
         "r": 0,
         "t": 20
        },
        "paper_bgcolor": "rgba(0, 0, 0, 0)",
        "plot_bgcolor": "rgba(0, 0, 0, 0)",
        "showlegend": false,
        "template": {
         "data": {
          "bar": [
           {
            "error_x": {
             "color": "#2a3f5f"
            },
            "error_y": {
             "color": "#2a3f5f"
            },
            "marker": {
             "line": {
              "color": "#E5ECF6",
              "width": 0.5
             },
             "pattern": {
              "fillmode": "overlay",
              "size": 10,
              "solidity": 0.2
             }
            },
            "type": "bar"
           }
          ],
          "barpolar": [
           {
            "marker": {
             "line": {
              "color": "#E5ECF6",
              "width": 0.5
             },
             "pattern": {
              "fillmode": "overlay",
              "size": 10,
              "solidity": 0.2
             }
            },
            "type": "barpolar"
           }
          ],
          "carpet": [
           {
            "aaxis": {
             "endlinecolor": "#2a3f5f",
             "gridcolor": "white",
             "linecolor": "white",
             "minorgridcolor": "white",
             "startlinecolor": "#2a3f5f"
            },
            "baxis": {
             "endlinecolor": "#2a3f5f",
             "gridcolor": "white",
             "linecolor": "white",
             "minorgridcolor": "white",
             "startlinecolor": "#2a3f5f"
            },
            "type": "carpet"
           }
          ],
          "choropleth": [
           {
            "colorbar": {
             "outlinewidth": 0,
             "ticks": ""
            },
            "type": "choropleth"
           }
          ],
          "contour": [
           {
            "colorbar": {
             "outlinewidth": 0,
             "ticks": ""
            },
            "colorscale": [
             [
              0,
              "#0d0887"
             ],
             [
              0.1111111111111111,
              "#46039f"
             ],
             [
              0.2222222222222222,
              "#7201a8"
             ],
             [
              0.3333333333333333,
              "#9c179e"
             ],
             [
              0.4444444444444444,
              "#bd3786"
             ],
             [
              0.5555555555555556,
              "#d8576b"
             ],
             [
              0.6666666666666666,
              "#ed7953"
             ],
             [
              0.7777777777777778,
              "#fb9f3a"
             ],
             [
              0.8888888888888888,
              "#fdca26"
             ],
             [
              1,
              "#f0f921"
             ]
            ],
            "type": "contour"
           }
          ],
          "contourcarpet": [
           {
            "colorbar": {
             "outlinewidth": 0,
             "ticks": ""
            },
            "type": "contourcarpet"
           }
          ],
          "heatmap": [
           {
            "colorbar": {
             "outlinewidth": 0,
             "ticks": ""
            },
            "colorscale": [
             [
              0,
              "#0d0887"
             ],
             [
              0.1111111111111111,
              "#46039f"
             ],
             [
              0.2222222222222222,
              "#7201a8"
             ],
             [
              0.3333333333333333,
              "#9c179e"
             ],
             [
              0.4444444444444444,
              "#bd3786"
             ],
             [
              0.5555555555555556,
              "#d8576b"
             ],
             [
              0.6666666666666666,
              "#ed7953"
             ],
             [
              0.7777777777777778,
              "#fb9f3a"
             ],
             [
              0.8888888888888888,
              "#fdca26"
             ],
             [
              1,
              "#f0f921"
             ]
            ],
            "type": "heatmap"
           }
          ],
          "heatmapgl": [
           {
            "colorbar": {
             "outlinewidth": 0,
             "ticks": ""
            },
            "colorscale": [
             [
              0,
              "#0d0887"
             ],
             [
              0.1111111111111111,
              "#46039f"
             ],
             [
              0.2222222222222222,
              "#7201a8"
             ],
             [
              0.3333333333333333,
              "#9c179e"
             ],
             [
              0.4444444444444444,
              "#bd3786"
             ],
             [
              0.5555555555555556,
              "#d8576b"
             ],
             [
              0.6666666666666666,
              "#ed7953"
             ],
             [
              0.7777777777777778,
              "#fb9f3a"
             ],
             [
              0.8888888888888888,
              "#fdca26"
             ],
             [
              1,
              "#f0f921"
             ]
            ],
            "type": "heatmapgl"
           }
          ],
          "histogram": [
           {
            "marker": {
             "pattern": {
              "fillmode": "overlay",
              "size": 10,
              "solidity": 0.2
             }
            },
            "type": "histogram"
           }
          ],
          "histogram2d": [
           {
            "colorbar": {
             "outlinewidth": 0,
             "ticks": ""
            },
            "colorscale": [
             [
              0,
              "#0d0887"
             ],
             [
              0.1111111111111111,
              "#46039f"
             ],
             [
              0.2222222222222222,
              "#7201a8"
             ],
             [
              0.3333333333333333,
              "#9c179e"
             ],
             [
              0.4444444444444444,
              "#bd3786"
             ],
             [
              0.5555555555555556,
              "#d8576b"
             ],
             [
              0.6666666666666666,
              "#ed7953"
             ],
             [
              0.7777777777777778,
              "#fb9f3a"
             ],
             [
              0.8888888888888888,
              "#fdca26"
             ],
             [
              1,
              "#f0f921"
             ]
            ],
            "type": "histogram2d"
           }
          ],
          "histogram2dcontour": [
           {
            "colorbar": {
             "outlinewidth": 0,
             "ticks": ""
            },
            "colorscale": [
             [
              0,
              "#0d0887"
             ],
             [
              0.1111111111111111,
              "#46039f"
             ],
             [
              0.2222222222222222,
              "#7201a8"
             ],
             [
              0.3333333333333333,
              "#9c179e"
             ],
             [
              0.4444444444444444,
              "#bd3786"
             ],
             [
              0.5555555555555556,
              "#d8576b"
             ],
             [
              0.6666666666666666,
              "#ed7953"
             ],
             [
              0.7777777777777778,
              "#fb9f3a"
             ],
             [
              0.8888888888888888,
              "#fdca26"
             ],
             [
              1,
              "#f0f921"
             ]
            ],
            "type": "histogram2dcontour"
           }
          ],
          "mesh3d": [
           {
            "colorbar": {
             "outlinewidth": 0,
             "ticks": ""
            },
            "type": "mesh3d"
           }
          ],
          "parcoords": [
           {
            "line": {
             "colorbar": {
              "outlinewidth": 0,
              "ticks": ""
             }
            },
            "type": "parcoords"
           }
          ],
          "pie": [
           {
            "automargin": true,
            "type": "pie"
           }
          ],
          "scatter": [
           {
            "fillpattern": {
             "fillmode": "overlay",
             "size": 10,
             "solidity": 0.2
            },
            "type": "scatter"
           }
          ],
          "scatter3d": [
           {
            "line": {
             "colorbar": {
              "outlinewidth": 0,
              "ticks": ""
             }
            },
            "marker": {
             "colorbar": {
              "outlinewidth": 0,
              "ticks": ""
             }
            },
            "type": "scatter3d"
           }
          ],
          "scattercarpet": [
           {
            "marker": {
             "colorbar": {
              "outlinewidth": 0,
              "ticks": ""
             }
            },
            "type": "scattercarpet"
           }
          ],
          "scattergeo": [
           {
            "marker": {
             "colorbar": {
              "outlinewidth": 0,
              "ticks": ""
             }
            },
            "type": "scattergeo"
           }
          ],
          "scattergl": [
           {
            "marker": {
             "colorbar": {
              "outlinewidth": 0,
              "ticks": ""
             }
            },
            "type": "scattergl"
           }
          ],
          "scattermapbox": [
           {
            "marker": {
             "colorbar": {
              "outlinewidth": 0,
              "ticks": ""
             }
            },
            "type": "scattermapbox"
           }
          ],
          "scatterpolar": [
           {
            "marker": {
             "colorbar": {
              "outlinewidth": 0,
              "ticks": ""
             }
            },
            "type": "scatterpolar"
           }
          ],
          "scatterpolargl": [
           {
            "marker": {
             "colorbar": {
              "outlinewidth": 0,
              "ticks": ""
             }
            },
            "type": "scatterpolargl"
           }
          ],
          "scatterternary": [
           {
            "marker": {
             "colorbar": {
              "outlinewidth": 0,
              "ticks": ""
             }
            },
            "type": "scatterternary"
           }
          ],
          "surface": [
           {
            "colorbar": {
             "outlinewidth": 0,
             "ticks": ""
            },
            "colorscale": [
             [
              0,
              "#0d0887"
             ],
             [
              0.1111111111111111,
              "#46039f"
             ],
             [
              0.2222222222222222,
              "#7201a8"
             ],
             [
              0.3333333333333333,
              "#9c179e"
             ],
             [
              0.4444444444444444,
              "#bd3786"
             ],
             [
              0.5555555555555556,
              "#d8576b"
             ],
             [
              0.6666666666666666,
              "#ed7953"
             ],
             [
              0.7777777777777778,
              "#fb9f3a"
             ],
             [
              0.8888888888888888,
              "#fdca26"
             ],
             [
              1,
              "#f0f921"
             ]
            ],
            "type": "surface"
           }
          ],
          "table": [
           {
            "cells": {
             "fill": {
              "color": "#EBF0F8"
             },
             "line": {
              "color": "white"
             }
            },
            "header": {
             "fill": {
              "color": "#C8D4E3"
             },
             "line": {
              "color": "white"
             }
            },
            "type": "table"
           }
          ]
         },
         "layout": {
          "annotationdefaults": {
           "arrowcolor": "#2a3f5f",
           "arrowhead": 0,
           "arrowwidth": 1
          },
          "autotypenumbers": "strict",
          "coloraxis": {
           "colorbar": {
            "outlinewidth": 0,
            "ticks": ""
           }
          },
          "colorscale": {
           "diverging": [
            [
             0,
             "#8e0152"
            ],
            [
             0.1,
             "#c51b7d"
            ],
            [
             0.2,
             "#de77ae"
            ],
            [
             0.3,
             "#f1b6da"
            ],
            [
             0.4,
             "#fde0ef"
            ],
            [
             0.5,
             "#f7f7f7"
            ],
            [
             0.6,
             "#e6f5d0"
            ],
            [
             0.7,
             "#b8e186"
            ],
            [
             0.8,
             "#7fbc41"
            ],
            [
             0.9,
             "#4d9221"
            ],
            [
             1,
             "#276419"
            ]
           ],
           "sequential": [
            [
             0,
             "#0d0887"
            ],
            [
             0.1111111111111111,
             "#46039f"
            ],
            [
             0.2222222222222222,
             "#7201a8"
            ],
            [
             0.3333333333333333,
             "#9c179e"
            ],
            [
             0.4444444444444444,
             "#bd3786"
            ],
            [
             0.5555555555555556,
             "#d8576b"
            ],
            [
             0.6666666666666666,
             "#ed7953"
            ],
            [
             0.7777777777777778,
             "#fb9f3a"
            ],
            [
             0.8888888888888888,
             "#fdca26"
            ],
            [
             1,
             "#f0f921"
            ]
           ],
           "sequentialminus": [
            [
             0,
             "#0d0887"
            ],
            [
             0.1111111111111111,
             "#46039f"
            ],
            [
             0.2222222222222222,
             "#7201a8"
            ],
            [
             0.3333333333333333,
             "#9c179e"
            ],
            [
             0.4444444444444444,
             "#bd3786"
            ],
            [
             0.5555555555555556,
             "#d8576b"
            ],
            [
             0.6666666666666666,
             "#ed7953"
            ],
            [
             0.7777777777777778,
             "#fb9f3a"
            ],
            [
             0.8888888888888888,
             "#fdca26"
            ],
            [
             1,
             "#f0f921"
            ]
           ]
          },
          "colorway": [
           "#636efa",
           "#EF553B",
           "#00cc96",
           "#ab63fa",
           "#FFA15A",
           "#19d3f3",
           "#FF6692",
           "#B6E880",
           "#FF97FF",
           "#FECB52"
          ],
          "font": {
           "color": "#2a3f5f"
          },
          "geo": {
           "bgcolor": "white",
           "lakecolor": "white",
           "landcolor": "#E5ECF6",
           "showlakes": true,
           "showland": true,
           "subunitcolor": "white"
          },
          "hoverlabel": {
           "align": "left"
          },
          "hovermode": "closest",
          "mapbox": {
           "style": "light"
          },
          "paper_bgcolor": "white",
          "plot_bgcolor": "#E5ECF6",
          "polar": {
           "angularaxis": {
            "gridcolor": "white",
            "linecolor": "white",
            "ticks": ""
           },
           "bgcolor": "#E5ECF6",
           "radialaxis": {
            "gridcolor": "white",
            "linecolor": "white",
            "ticks": ""
           }
          },
          "scene": {
           "xaxis": {
            "backgroundcolor": "#E5ECF6",
            "gridcolor": "white",
            "gridwidth": 2,
            "linecolor": "white",
            "showbackground": true,
            "ticks": "",
            "zerolinecolor": "white"
           },
           "yaxis": {
            "backgroundcolor": "#E5ECF6",
            "gridcolor": "white",
            "gridwidth": 2,
            "linecolor": "white",
            "showbackground": true,
            "ticks": "",
            "zerolinecolor": "white"
           },
           "zaxis": {
            "backgroundcolor": "#E5ECF6",
            "gridcolor": "white",
            "gridwidth": 2,
            "linecolor": "white",
            "showbackground": true,
            "ticks": "",
            "zerolinecolor": "white"
           }
          },
          "shapedefaults": {
           "line": {
            "color": "#2a3f5f"
           }
          },
          "ternary": {
           "aaxis": {
            "gridcolor": "white",
            "linecolor": "white",
            "ticks": ""
           },
           "baxis": {
            "gridcolor": "white",
            "linecolor": "white",
            "ticks": ""
           },
           "bgcolor": "#E5ECF6",
           "caxis": {
            "gridcolor": "white",
            "linecolor": "white",
            "ticks": ""
           }
          },
          "title": {
           "x": 0.05
          },
          "xaxis": {
           "automargin": true,
           "gridcolor": "white",
           "linecolor": "white",
           "ticks": "",
           "title": {
            "standoff": 15
           },
           "zerolinecolor": "white",
           "zerolinewidth": 2
          },
          "yaxis": {
           "automargin": true,
           "gridcolor": "white",
           "linecolor": "white",
           "ticks": "",
           "title": {
            "standoff": 15
           },
           "zerolinecolor": "white",
           "zerolinewidth": 2
          }
         }
        },
        "width": 1000,
        "xaxis": {
         "autorange": true,
         "range": [
          -0.9648342223467826,
          1.1114772389750271
         ],
         "showgrid": false,
         "showticklabels": false,
         "title": {},
         "type": "linear",
         "zeroline": false
        },
        "yaxis": {
         "autorange": true,
         "range": [
          -1.0021351335966868,
          0.7749494550961639
         ],
         "showgrid": false,
         "showticklabels": false,
         "type": "linear",
         "zeroline": false
        }
       }
      },
      "image/png": "[encoded data removed]",
      "text/html": [
       "<div>                            <div id=\"75cabe9c-ca14-41ef-bbf6-127c05297125\" class=\"plotly-graph-div\" style=\"height:500px; width:1000px;\"></div>            <script type=\"text/javascript\">                require([\"plotly\"], function(Plotly) {                    window.PLOTLYENV=window.PLOTLYENV || {};                                    if (document.getElementById(\"75cabe9c-ca14-41ef-bbf6-127c05297125\")) {                    Plotly.newPlot(                        \"75cabe9c-ca14-41ef-bbf6-127c05297125\",                        [{\"line\":{\"color\":\"#888\",\"width\":0.5},\"mode\":\"lines\",\"opacity\":1,\"x\":[-0.10046188078130432,0.28630293754416986,null,-0.10046188078130432,-0.6209260410899476,null,-0.10046188078130432,0.08342475383978253,null,-0.10046188078130432,-0.5293709609401063,null,-0.10046188078130432,-0.46316896661655155,null,-0.10046188078130432,0.03548724174816162,null,-0.10046188078130432,-0.14651356625331866,null,-0.10046188078130432,-0.44102131489483115,null,-0.10046188078130432,-0.46262274643017814,null,-0.10046188078130432,-0.35826582872979873,null,-0.10046188078130432,0.23388002933194743,null,-0.10046188078130432,-0.2913096075155415,null,-0.10046188078130432,-0.1944220286977573,null,-0.10046188078130432,0.15053022784507483,null,-0.10046188078130432,0.5723979655786106,null,-0.10046188078130432,-0.14072642589260673,null,-0.10046188078130432,-0.02652744043846881,null,0.6438861381318268,0.08342475383978253,null,-0.5293709609401063,-0.14651356625331866,null,-0.5293709609401063,0.08342475383978253,null,-0.5293709609401063,-0.46262274643017814,null,-0.02652744043846881,-0.2913096075155415,null,-0.02652744043846881,0.08342475383978253,null,-0.8533569833717556,-0.46316896661655155,null,-0.8533569833717556,0.08342475383978253,null,0.15053022784507483,-0.1944220286977573,null,0.15053022784507483,-0.2913096075155415,null,0.15053022784507483,-0.14651356625331866,null,0.08342475383978253,-0.6209260410899476,null,0.08342475383978253,0.28630293754416986,null,0.08342475383978253,-0.1944220286977573,null,0.08342475383978253,-0.2913096075155415,null,0.08342475383978253,0.6047697844585749,null,0.08342475383978253,-0.14651356625331866,null,0.08342475383978253,0.9077501234483566,null,0.08342475383978253,1.0,null,0.08342475383978253,-0.44102131489483115,null,0.08342475383978253,-0.46262274643017814,null,0.08342475383978253,-0.35826582872979873,null,0.08342475383978253,0.23388002933194743,null,0.08342475383978253,-0.31411065609935995,null,0.08342475383978253,-0.14072642589260673,null,0.08342475383978253,0.5723979655786106,null,0.08342475383978253,-0.1978708554139068,null,0.08342475383978253,-0.46316896661655155,null,0.08342475383978253,0.3960455396131865,null,0.08342475383978253,0.9120018634627173,null,0.08342475383978253,0.03548724174816162,null,-0.46316896661655155,0.03548724174816162,null,-0.46316896661655155,-0.1944220286977573,null,-0.46316896661655155,-0.6858013018369746,null,0.23388002933194743,-0.14072642589260673,null,0.23388002933194743,0.3960455396131865,null,-0.2913096075155415,-0.1944220286977573,null,-0.2913096075155415,-0.14651356625331866,null,-0.2913096075155415,-0.46262274643017814,null,-0.2913096075155415,-0.6209260410899476,null,-0.2913096075155415,-0.44102131489483115,null,-0.2913096075155415,-0.35826582872979873,null,0.03548724174816162,-0.1944220286977573,null,-0.1944220286977573,-0.6858013018369746,null,-0.1944220286977573,-0.14651356625331866,null,-0.1944220286977573,-0.35826582872979873,null,-0.14651356625331866,-0.6858013018369746,null,-0.14651356625331866,-0.35826582872979873,null,-0.14651356625331866,-0.46262274643017814,null,-0.14651356625331866,-0.14072642589260673,null,-0.14651356625331866,0.3960455396131865,null,-0.14651356625331866,0.28630293754416986,null,-0.31411065609935995,-0.35826582872979873,null,-0.31411065609935995,-0.46262274643017814,null,-0.14072642589260673,-0.1978708554139068,null,0.28630293754416986,0.6047697844585749,null,-0.6858013018369746,-0.6209260410899476,null,-0.6209260410899476,-0.35826582872979873,null,-0.35826582872979873,-0.46262274643017814,null],\"y\":[-0.034818772580268956,0.49471394826323917,null,-0.034818772580268956,0.2035120497573745,null,-0.034818772580268956,-0.04758084796595272,null,-0.034818772580268956,-0.23545939627071064,null,-0.034818772580268956,0.4430076634101013,null,-0.034818772580268956,0.5208878010045026,null,-0.034818772580268956,0.12003507364575922,null,-0.034818772580268956,-0.5144656509887535,null,-0.034818772580268956,0.0818253344658868,null,-0.034818772580268956,0.26876895020891217,null,-0.034818772580268956,-0.5866057893192292,null,-0.034818772580268956,-0.1008418118886298,null,-0.034818772580268956,0.40284686429975936,null,-0.034818772580268956,0.24561715930618924,null,-0.034818772580268956,-0.054521005099757214,null,-0.034818772580268956,-0.4839698133418279,null,-0.034818772580268956,-0.5904022178261434,null,-0.7964394005387031,-0.04758084796595272,null,-0.23545939627071064,0.12003507364575922,null,-0.23545939627071064,-0.04758084796595272,null,-0.23545939627071064,0.0818253344658868,null,-0.5904022178261434,-0.1008418118886298,null,-0.5904022178261434,-0.04758084796595272,null,0.06049316786525173,0.4430076634101013,null,0.06049316786525173,-0.04758084796595272,null,0.24561715930618924,0.40284686429975936,null,0.24561715930618924,-0.1008418118886298,null,0.24561715930618924,0.12003507364575922,null,-0.04758084796595272,0.2035120497573745,null,-0.04758084796595272,0.49471394826323917,null,-0.04758084796595272,0.40284686429975936,null,-0.04758084796595272,-0.1008418118886298,null,-0.04758084796595272,0.6689012803502764,null,-0.04758084796595272,0.12003507364575922,null,-0.04758084796595272,0.34598306572118276,null,-0.04758084796595272,-0.03732754780434622,null,-0.04758084796595272,-0.5144656509887535,null,-0.04758084796595272,0.0818253344658868,null,-0.04758084796595272,0.26876895020891217,null,-0.04758084796595272,-0.5866057893192292,null,-0.04758084796595272,0.6647533167914489,null,-0.04758084796595272,-0.4839698133418279,null,-0.04758084796595272,-0.054521005099757214,null,-0.04758084796595272,-0.9021741254827139,null,-0.04758084796595272,0.4430076634101013,null,-0.04758084796595272,-0.34157985288391934,null,-0.04758084796595272,-0.44093205214128606,null,-0.04758084796595272,0.5208878010045026,null,0.4430076634101013,0.5208878010045026,null,0.4430076634101013,0.40284686429975936,null,0.4430076634101013,0.645772609042356,null,-0.5866057893192292,-0.4839698133418279,null,-0.5866057893192292,-0.34157985288391934,null,-0.1008418118886298,0.40284686429975936,null,-0.1008418118886298,0.12003507364575922,null,-0.1008418118886298,0.0818253344658868,null,-0.1008418118886298,0.2035120497573745,null,-0.1008418118886298,-0.5144656509887535,null,-0.1008418118886298,0.26876895020891217,null,0.5208878010045026,0.40284686429975936,null,0.40284686429975936,0.645772609042356,null,0.40284686429975936,0.12003507364575922,null,0.40284686429975936,0.26876895020891217,null,0.12003507364575922,0.645772609042356,null,0.12003507364575922,0.26876895020891217,null,0.12003507364575922,0.0818253344658868,null,0.12003507364575922,-0.4839698133418279,null,0.12003507364575922,-0.34157985288391934,null,0.12003507364575922,0.49471394826323917,null,0.6647533167914489,0.26876895020891217,null,0.6647533167914489,0.0818253344658868,null,-0.4839698133418279,-0.9021741254827139,null,0.49471394826323917,0.6689012803502764,null,0.645772609042356,0.2035120497573745,null,0.2035120497573745,0.26876895020891217,null,0.26876895020891217,0.0818253344658868,null],\"type\":\"scatter\"},{\"hoverinfo\":\"text\",\"hovertext\":[\"be:81\",\"chest:6\",\"close:19\",\"do:7\",\"dx:9\",\"fall:15\",\"fell:206\",\"find:18\",\"forehead:6\",\"fracture:13\",\"get:37\",\"go:9\",\"have:35\",\"hit:50\",\"land:19\",\"leave:23\",\"lose:15\",\"miss:6\",\"pt:11\",\"sit:8\",\"slip:23\",\"stand:8\",\"strike:28\",\"sustain:5\",\"trip:43\",\"try:6\",\"use:7\",\"walk:27\"],\"marker\":{\"color\":[0.28825622775800713,0.021352313167259787,0.06761565836298933,0.02491103202846975,0.03202846975088968,0.05338078291814947,0.7330960854092526,0.06405693950177936,0.021352313167259787,0.046263345195729534,0.13167259786476868,0.03202846975088968,0.12455516014234876,0.17793594306049823,0.06761565836298933,0.08185053380782918,0.05338078291814947,0.021352313167259787,0.03914590747330961,0.028469750889679714,0.08185053380782918,0.028469750889679714,0.099644128113879,0.017793594306049824,0.15302491103202848,0.021352313167259787,0.02491103202846975,0.09608540925266904],\"colorbar\":{\"thickness\":16,\"title\":{\"text\":\"Word Appearance\"}},\"colorscale\":[[0.0,\"rgb(12,51,131)\"],[0.25,\"rgb(10,136,186)\"],[0.5,\"rgb(242,211,56)\"],[0.75,\"rgb(242,143,56)\"],[1.0,\"rgb(217,30,30)\"]],\"line\":{\"width\":2},\"reversescale\":false,\"showscale\":true,\"size\":[39.32038834951456,2.912621359223301,9.223300970873787,3.3980582524271843,4.368932038834951,7.281553398058252,100.0,8.737864077669903,2.912621359223301,6.310679611650485,17.96116504854369,4.368932038834951,16.990291262135923,24.271844660194176,9.223300970873787,11.165048543689322,7.281553398058252,2.912621359223301,5.339805825242718,3.8834951456310676,11.165048543689322,3.8834951456310676,13.592233009708737,2.4271844660194173,20.87378640776699,2.912621359223301,3.3980582524271843,13.106796116504855]},\"mode\":\"markers+text\",\"text\":[\"be\",\"chest\",\"close\",\"do\",\"dx\",\"fall\",\"fell\",\"find\",\"forehead\",\"fracture\",\"get\",\"go\",\"have\",\"hit\",\"land\",\"leave\",\"lose\",\"miss\",\"pt\",\"sit\",\"slip\",\"stand\",\"strike\",\"sustain\",\"trip\",\"try\",\"use\",\"walk\"],\"textposition\":\"top center\",\"x\":[-0.10046188078130432,0.6438861381318268,-0.5293709609401063,-0.02652744043846881,-0.8533569833717556,0.15053022784507483,0.08342475383978253,-0.46316896661655155,0.9120018634627173,0.23388002933194743,-0.2913096075155415,0.03548724174816162,-0.1944220286977573,-0.14651356625331866,-0.31411065609935995,-0.14072642589260673,0.28630293754416986,0.9077501234483566,-0.6858013018369746,-0.1978708554139068,-0.44102131489483115,0.3960455396131865,-0.6209260410899476,1.0,-0.35826582872979873,0.5723979655786106,0.6047697844585749,-0.46262274643017814],\"y\":[-0.034818772580268956,-0.7964394005387031,-0.23545939627071064,-0.5904022178261434,0.06049316786525173,0.24561715930618924,-0.04758084796595272,0.4430076634101013,-0.44093205214128606,-0.5866057893192292,-0.1008418118886298,0.5208878010045026,0.40284686429975936,0.12003507364575922,0.6647533167914489,-0.4839698133418279,0.49471394826323917,0.34598306572118276,0.645772609042356,-0.9021741254827139,-0.5144656509887535,-0.34157985288391934,0.2035120497573745,-0.03732754780434622,0.26876895020891217,-0.054521005099757214,0.6689012803502764,0.0818253344658868],\"type\":\"scatter\"}],                        {\"font\":{\"size\":14},\"hovermode\":\"closest\",\"margin\":{\"b\":0,\"l\":0,\"r\":0,\"t\":20},\"paper_bgcolor\":\"rgba(0,0,0,0)\",\"plot_bgcolor\":\"rgba(0,0,0,0)\",\"showlegend\":false,\"xaxis\":{\"showgrid\":false,\"showticklabels\":false,\"zeroline\":false,\"title\":{}},\"yaxis\":{\"showgrid\":false,\"showticklabels\":false,\"zeroline\":false},\"template\":{\"data\":{\"histogram2dcontour\":[{\"type\":\"histogram2dcontour\",\"colorbar\":{\"outlinewidth\":0,\"ticks\":\"\"},\"colorscale\":[[0.0,\"#0d0887\"],[0.1111111111111111,\"#46039f\"],[0.2222222222222222,\"#7201a8\"],[0.3333333333333333,\"#9c179e\"],[0.4444444444444444,\"#bd3786\"],[0.5555555555555556,\"#d8576b\"],[0.6666666666666666,\"#ed7953\"],[0.7777777777777778,\"#fb9f3a\"],[0.8888888888888888,\"#fdca26\"],[1.0,\"#f0f921\"]]}],\"choropleth\":[{\"type\":\"choropleth\",\"colorbar\":{\"outlinewidth\":0,\"ticks\":\"\"}}],\"histogram2d\":[{\"type\":\"histogram2d\",\"colorbar\":{\"outlinewidth\":0,\"ticks\":\"\"},\"colorscale\":[[0.0,\"#0d0887\"],[0.1111111111111111,\"#46039f\"],[0.2222222222222222,\"#7201a8\"],[0.3333333333333333,\"#9c179e\"],[0.4444444444444444,\"#bd3786\"],[0.5555555555555556,\"#d8576b\"],[0.6666666666666666,\"#ed7953\"],[0.7777777777777778,\"#fb9f3a\"],[0.8888888888888888,\"#fdca26\"],[1.0,\"#f0f921\"]]}],\"heatmap\":[{\"type\":\"heatmap\",\"colorbar\":{\"outlinewidth\":0,\"ticks\":\"\"},\"colorscale\":[[0.0,\"#0d0887\"],[0.1111111111111111,\"#46039f\"],[0.2222222222222222,\"#7201a8\"],[0.3333333333333333,\"#9c179e\"],[0.4444444444444444,\"#bd3786\"],[0.5555555555555556,\"#d8576b\"],[0.6666666666666666,\"#ed7953\"],[0.7777777777777778,\"#fb9f3a\"],[0.8888888888888888,\"#fdca26\"],[1.0,\"#f0f921\"]]}],\"heatmapgl\":[{\"type\":\"heatmapgl\",\"colorbar\":{\"outlinewidth\":0,\"ticks\":\"\"},\"colorscale\":[[0.0,\"#0d0887\"],[0.1111111111111111,\"#46039f\"],[0.2222222222222222,\"#7201a8\"],[0.3333333333333333,\"#9c179e\"],[0.4444444444444444,\"#bd3786\"],[0.5555555555555556,\"#d8576b\"],[0.6666666666666666,\"#ed7953\"],[0.7777777777777778,\"#fb9f3a\"],[0.8888888888888888,\"#fdca26\"],[1.0,\"#f0f921\"]]}],\"contourcarpet\":[{\"type\":\"contourcarpet\",\"colorbar\":{\"outlinewidth\":0,\"ticks\":\"\"}}],\"contour\":[{\"type\":\"contour\",\"colorbar\":{\"outlinewidth\":0,\"ticks\":\"\"},\"colorscale\":[[0.0,\"#0d0887\"],[0.1111111111111111,\"#46039f\"],[0.2222222222222222,\"#7201a8\"],[0.3333333333333333,\"#9c179e\"],[0.4444444444444444,\"#bd3786\"],[0.5555555555555556,\"#d8576b\"],[0.6666666666666666,\"#ed7953\"],[0.7777777777777778,\"#fb9f3a\"],[0.8888888888888888,\"#fdca26\"],[1.0,\"#f0f921\"]]}],\"surface\":[{\"type\":\"surface\",\"colorbar\":{\"outlinewidth\":0,\"ticks\":\"\"},\"colorscale\":[[0.0,\"#0d0887\"],[0.1111111111111111,\"#46039f\"],[0.2222222222222222,\"#7201a8\"],[0.3333333333333333,\"#9c179e\"],[0.4444444444444444,\"#bd3786\"],[0.5555555555555556,\"#d8576b\"],[0.6666666666666666,\"#ed7953\"],[0.7777777777777778,\"#fb9f3a\"],[0.8888888888888888,\"#fdca26\"],[1.0,\"#f0f921\"]]}],\"mesh3d\":[{\"type\":\"mesh3d\",\"colorbar\":{\"outlinewidth\":0,\"ticks\":\"\"}}],\"scatter\":[{\"fillpattern\":{\"fillmode\":\"overlay\",\"size\":10,\"solidity\":0.2},\"type\":\"scatter\"}],\"parcoords\":[{\"type\":\"parcoords\",\"line\":{\"colorbar\":{\"outlinewidth\":0,\"ticks\":\"\"}}}],\"scatterpolargl\":[{\"type\":\"scatterpolargl\",\"marker\":{\"colorbar\":{\"outlinewidth\":0,\"ticks\":\"\"}}}],\"bar\":[{\"error_x\":{\"color\":\"#2a3f5f\"},\"error_y\":{\"color\":\"#2a3f5f\"},\"marker\":{\"line\":{\"color\":\"#E5ECF6\",\"width\":0.5},\"pattern\":{\"fillmode\":\"overlay\",\"size\":10,\"solidity\":0.2}},\"type\":\"bar\"}],\"scattergeo\":[{\"type\":\"scattergeo\",\"marker\":{\"colorbar\":{\"outlinewidth\":0,\"ticks\":\"\"}}}],\"scatterpolar\":[{\"type\":\"scatterpolar\",\"marker\":{\"colorbar\":{\"outlinewidth\":0,\"ticks\":\"\"}}}],\"histogram\":[{\"marker\":{\"pattern\":{\"fillmode\":\"overlay\",\"size\":10,\"solidity\":0.2}},\"type\":\"histogram\"}],\"scattergl\":[{\"type\":\"scattergl\",\"marker\":{\"colorbar\":{\"outlinewidth\":0,\"ticks\":\"\"}}}],\"scatter3d\":[{\"type\":\"scatter3d\",\"line\":{\"colorbar\":{\"outlinewidth\":0,\"ticks\":\"\"}},\"marker\":{\"colorbar\":{\"outlinewidth\":0,\"ticks\":\"\"}}}],\"scattermapbox\":[{\"type\":\"scattermapbox\",\"marker\":{\"colorbar\":{\"outlinewidth\":0,\"ticks\":\"\"}}}],\"scatterternary\":[{\"type\":\"scatterternary\",\"marker\":{\"colorbar\":{\"outlinewidth\":0,\"ticks\":\"\"}}}],\"scattercarpet\":[{\"type\":\"scattercarpet\",\"marker\":{\"colorbar\":{\"outlinewidth\":0,\"ticks\":\"\"}}}],\"carpet\":[{\"aaxis\":{\"endlinecolor\":\"#2a3f5f\",\"gridcolor\":\"white\",\"linecolor\":\"white\",\"minorgridcolor\":\"white\",\"startlinecolor\":\"#2a3f5f\"},\"baxis\":{\"endlinecolor\":\"#2a3f5f\",\"gridcolor\":\"white\",\"linecolor\":\"white\",\"minorgridcolor\":\"white\",\"startlinecolor\":\"#2a3f5f\"},\"type\":\"carpet\"}],\"table\":[{\"cells\":{\"fill\":{\"color\":\"#EBF0F8\"},\"line\":{\"color\":\"white\"}},\"header\":{\"fill\":{\"color\":\"#C8D4E3\"},\"line\":{\"color\":\"white\"}},\"type\":\"table\"}],\"barpolar\":[{\"marker\":{\"line\":{\"color\":\"#E5ECF6\",\"width\":0.5},\"pattern\":{\"fillmode\":\"overlay\",\"size\":10,\"solidity\":0.2}},\"type\":\"barpolar\"}],\"pie\":[{\"automargin\":true,\"type\":\"pie\"}]},\"layout\":{\"autotypenumbers\":\"strict\",\"colorway\":[\"#636efa\",\"#EF553B\",\"#00cc96\",\"#ab63fa\",\"#FFA15A\",\"#19d3f3\",\"#FF6692\",\"#B6E880\",\"#FF97FF\",\"#FECB52\"],\"font\":{\"color\":\"#2a3f5f\"},\"hovermode\":\"closest\",\"hoverlabel\":{\"align\":\"left\"},\"paper_bgcolor\":\"white\",\"plot_bgcolor\":\"#E5ECF6\",\"polar\":{\"bgcolor\":\"#E5ECF6\",\"angularaxis\":{\"gridcolor\":\"white\",\"linecolor\":\"white\",\"ticks\":\"\"},\"radialaxis\":{\"gridcolor\":\"white\",\"linecolor\":\"white\",\"ticks\":\"\"}},\"ternary\":{\"bgcolor\":\"#E5ECF6\",\"aaxis\":{\"gridcolor\":\"white\",\"linecolor\":\"white\",\"ticks\":\"\"},\"baxis\":{\"gridcolor\":\"white\",\"linecolor\":\"white\",\"ticks\":\"\"},\"caxis\":{\"gridcolor\":\"white\",\"linecolor\":\"white\",\"ticks\":\"\"}},\"coloraxis\":{\"colorbar\":{\"outlinewidth\":0,\"ticks\":\"\"}},\"colorscale\":{\"sequential\":[[0.0,\"#0d0887\"],[0.1111111111111111,\"#46039f\"],[0.2222222222222222,\"#7201a8\"],[0.3333333333333333,\"#9c179e\"],[0.4444444444444444,\"#bd3786\"],[0.5555555555555556,\"#d8576b\"],[0.6666666666666666,\"#ed7953\"],[0.7777777777777778,\"#fb9f3a\"],[0.8888888888888888,\"#fdca26\"],[1.0,\"#f0f921\"]],\"sequentialminus\":[[0.0,\"#0d0887\"],[0.1111111111111111,\"#46039f\"],[0.2222222222222222,\"#7201a8\"],[0.3333333333333333,\"#9c179e\"],[0.4444444444444444,\"#bd3786\"],[0.5555555555555556,\"#d8576b\"],[0.6666666666666666,\"#ed7953\"],[0.7777777777777778,\"#fb9f3a\"],[0.8888888888888888,\"#fdca26\"],[1.0,\"#f0f921\"]],\"diverging\":[[0,\"#8e0152\"],[0.1,\"#c51b7d\"],[0.2,\"#de77ae\"],[0.3,\"#f1b6da\"],[0.4,\"#fde0ef\"],[0.5,\"#f7f7f7\"],[0.6,\"#e6f5d0\"],[0.7,\"#b8e186\"],[0.8,\"#7fbc41\"],[0.9,\"#4d9221\"],[1,\"#276419\"]]},\"xaxis\":{\"gridcolor\":\"white\",\"linecolor\":\"white\",\"ticks\":\"\",\"title\":{\"standoff\":15},\"zerolinecolor\":\"white\",\"automargin\":true,\"zerolinewidth\":2},\"yaxis\":{\"gridcolor\":\"white\",\"linecolor\":\"white\",\"ticks\":\"\",\"title\":{\"standoff\":15},\"zerolinecolor\":\"white\",\"automargin\":true,\"zerolinewidth\":2},\"scene\":{\"xaxis\":{\"backgroundcolor\":\"#E5ECF6\",\"gridcolor\":\"white\",\"linecolor\":\"white\",\"showbackground\":true,\"ticks\":\"\",\"zerolinecolor\":\"white\",\"gridwidth\":2},\"yaxis\":{\"backgroundcolor\":\"#E5ECF6\",\"gridcolor\":\"white\",\"linecolor\":\"white\",\"showbackground\":true,\"ticks\":\"\",\"zerolinecolor\":\"white\",\"gridwidth\":2},\"zaxis\":{\"backgroundcolor\":\"#E5ECF6\",\"gridcolor\":\"white\",\"linecolor\":\"white\",\"showbackground\":true,\"ticks\":\"\",\"zerolinecolor\":\"white\",\"gridwidth\":2}},\"shapedefaults\":{\"line\":{\"color\":\"#2a3f5f\"}},\"annotationdefaults\":{\"arrowcolor\":\"#2a3f5f\",\"arrowhead\":0,\"arrowwidth\":1},\"geo\":{\"bgcolor\":\"white\",\"landcolor\":\"#E5ECF6\",\"subunitcolor\":\"white\",\"showland\":true,\"showlakes\":true,\"lakecolor\":\"white\"},\"title\":{\"x\":0.05},\"mapbox\":{\"style\":\"light\"}}},\"dragmode\":\"pan\",\"autosize\":false,\"width\":1000,\"height\":500},                        {\"scrollZoom\": true, \"displaylogo\": false, \"modeBarButtonsToRemove\": [\"zoom\", \"select\", \" lasso2d\"], \"responsive\": true}                    ).then(function(){\n",
       "                            \n",
       "var gd = document.getElementById('75cabe9c-ca14-41ef-bbf6-127c05297125');\n",
       "var x = new MutationObserver(function (mutations, observer) {{\n",
       "        var display = window.getComputedStyle(gd).display;\n",
       "        if (!display || display === 'none') {{\n",
       "            console.log([gd, 'removed!']);\n",
       "            Plotly.purge(gd);\n",
       "            observer.disconnect();\n",
       "        }}\n",
       "}});\n",
       "\n",
       "// Listen for the removal of the full notebook cells\n",
       "var notebookContainer = gd.closest('#notebook-container');\n",
       "if (notebookContainer) {{\n",
       "    x.observe(notebookContainer, {childList: true});\n",
       "}}\n",
       "\n",
       "// Listen for the clearing of the current output cell\n",
       "var outputEl = gd.closest('.output');\n",
       "if (outputEl) {{\n",
       "    x.observe(outputEl, {childList: true});\n",
       "}}\n",
       "\n",
       "                        })                };                });            </script>        </div>"
      ]
     },
     "metadata": {},
     "output_type": "display_data"
    }
   ],
   "source": [
    "# Get each word list of narratives\n",
    "lines = df_ret['Morph'].values\n",
    "get_cooccurrence_network(lines, edge_threshold=3, freq_top_n=30)"
   ]
  },
  {
   "cell_type": "code",
   "execution_count": 19,
   "id": "31823796-f2f0-4e6c-b6f8-a5edb98770b7",
   "metadata": {
    "tags": []
   },
   "outputs": [
    {
     "data": {
      "application/vnd.plotly.v1+json": {
       "config": {
        "displaylogo": false,
        "modeBarButtonsToRemove": [
         "zoom",
         "select",
         " lasso2d"
        ],
        "plotlyServerURL": "https://plot.ly",
        "responsive": true,
        "scrollZoom": true
       },
       "data": [
        {
         "line": {
          "color": "#888",
          "width": 0.5
         },
         "mode": "lines",
         "opacity": 1,
         "type": "scatter",
         "x": [
          -0.35448839777692026,
          -0.0988643370521542,
          null,
          0.20014683740535047,
          -0.0988643370521542,
          null,
          0.20014683740535047,
          0.05125492241232297,
          null,
          0.15593144709542295,
          -0.0988643370521542,
          null,
          -0.06687989396704587,
          0.22549627288909266,
          null,
          -0.06687989396704587,
          -0.0988643370521542,
          null,
          -0.06687989396704587,
          -0.1542388424845009,
          null,
          0.1831798358146611,
          -0.0988643370521542,
          null,
          0.1831798358146611,
          0.35133005809903867,
          null,
          0.22549627288909266,
          0.1840633724174709,
          null,
          0.22549627288909266,
          0.06285192788386758,
          null,
          0.22549627288909266,
          0.5836332775860518,
          null,
          0.22549627288909266,
          0.16225633566186037,
          null,
          0.22549627288909266,
          0.6368062889277729,
          null,
          0.22549627288909266,
          -0.18793177494074162,
          null,
          -0.0988643370521542,
          0.1840633724174709,
          null,
          -0.0988643370521542,
          0.29750538454260983,
          null,
          -0.0988643370521542,
          -0.1720298068009883,
          null,
          -0.0988643370521542,
          -0.6380208230285901,
          null,
          -0.0988643370521542,
          -0.0982429414810773,
          null,
          -0.0988643370521542,
          -0.004092169901480788,
          null,
          -0.0988643370521542,
          -0.18793177494074162,
          null,
          -0.0988643370521542,
          0.05125492241232297,
          null,
          -0.0988643370521542,
          0.16225633566186037,
          null,
          -0.0988643370521542,
          -0.3930596795009822,
          null,
          -0.0988643370521542,
          -0.39972051613154064,
          null,
          -0.0988643370521542,
          -0.4827542748000443,
          null,
          -0.3930596795009822,
          -0.18793177494074162,
          null,
          0.1840633724174709,
          -0.004092169901480788,
          null,
          0.1840633724174709,
          -0.0982429414810773,
          null,
          0.1840633724174709,
          0.1429002733514522,
          null,
          0.1840633724174709,
          0.4623385426058648,
          null,
          0.1840633724174709,
          0.3506286811732239,
          null,
          -0.1542388424845009,
          0.06285192788386758,
          null,
          0.3506286811732239,
          0.4623385426058648,
          null,
          -1,
          -0.6380208230285901,
          null,
          -0.18793177494074162,
          -0.39972051613154064,
          null
         ],
         "y": [
          -0.35546019958563035,
          -0.03441261400183764,
          null,
          0.2252053288474001,
          -0.03441261400183764,
          null,
          0.2252053288474001,
          0.22940112213287697,
          null,
          -0.2726457198483063,
          -0.03441261400183764,
          null,
          0.3783615085393927,
          0.12037947891879597,
          null,
          0.3783615085393927,
          -0.03441261400183764,
          null,
          0.3783615085393927,
          0.7247106647814724,
          null,
          0.4697353692168745,
          -0.03441261400183764,
          null,
          0.4697353692168745,
          0.8402855601487126,
          null,
          0.12037947891879597,
          -0.45596200583072316,
          null,
          0.12037947891879597,
          0.5717434211170795,
          null,
          0.12037947891879597,
          0.3202468177550952,
          null,
          0.12037947891879597,
          -0.045575674784652694,
          null,
          0.12037947891879597,
          0.11429336040390735,
          null,
          0.12037947891879597,
          0.07569494042767007,
          null,
          -0.03441261400183764,
          -0.45596200583072316,
          null,
          -0.03441261400183764,
          -0.1542801499979438,
          null,
          -0.03441261400183764,
          0.24747920841307508,
          null,
          -0.03441261400183764,
          0.12408995923824107,
          null,
          -0.03441261400183764,
          -0.4411349849116162,
          null,
          -0.03441261400183764,
          -0.36967388981008176,
          null,
          -0.03441261400183764,
          0.07569494042767007,
          null,
          -0.03441261400183764,
          0.22940112213287697,
          null,
          -0.03441261400183764,
          -0.045575674784652694,
          null,
          -0.03441261400183764,
          -0.05078750206433738,
          null,
          -0.03441261400183764,
          0.13420694720485546,
          null,
          -0.03441261400183764,
          -0.22573638156588843,
          null,
          -0.05078750206433738,
          0.07569494042767007,
          null,
          -0.45596200583072316,
          -0.36967388981008176,
          null,
          -0.45596200583072316,
          -0.4411349849116162,
          null,
          -0.45596200583072316,
          -0.8542468515475403,
          null,
          -0.45596200583072316,
          -0.7326700190967972,
          null,
          -0.45596200583072316,
          -0.8183992552633262,
          null,
          0.7247106647814724,
          0.5717434211170795,
          null,
          -0.8183992552633262,
          -0.7326700190967972,
          null,
          0.23515156116323416,
          0.12408995923824107,
          null,
          0.07569494042767007,
          0.13420694720485546,
          null
         ]
        },
        {
         "hoverinfo": "text",
         "hovertext": [
          "backwards:7",
          "balance:9",
          "bathroom:7",
          "bed:30",
          "chair:19",
          "fall:39",
          "fell:132",
          "flight:7",
          "floor:65",
          "forward:6",
          "found:7",
          "getting:12",
          "got:8",
          "head:11",
          "hit:6",
          "lost:10",
          "missed:5",
          "shower:8",
          "slip:6",
          "slipped:22",
          "stairs:25",
          "step:12",
          "steps:14",
          "trip:8",
          "tripped:48",
          "trying:5",
          "walker:7",
          "walking:15"
         ],
         "marker": {
          "color": [
           0.025362318840579712,
           0.03260869565217391,
           0.025362318840579712,
           0.10869565217391304,
           0.06884057971014493,
           0.14130434782608695,
           0.4782608695652174,
           0.025362318840579712,
           0.23550724637681159,
           0.021739130434782608,
           0.025362318840579712,
           0.043478260869565216,
           0.028985507246376812,
           0.03985507246376811,
           0.021739130434782608,
           0.036231884057971016,
           0.018115942028985508,
           0.028985507246376812,
           0.021739130434782608,
           0.07971014492753623,
           0.09057971014492754,
           0.043478260869565216,
           0.050724637681159424,
           0.028985507246376812,
           0.17391304347826086,
           0.018115942028985508,
           0.025362318840579712,
           0.05434782608695652
          ],
          "colorbar": {
           "thickness": 16,
           "title": {
            "text": "Word Appearance"
           }
          },
          "colorscale": [
           [
            0,
            "rgb(12,51,131)"
           ],
           [
            0.25,
            "rgb(10,136,186)"
           ],
           [
            0.5,
            "rgb(242,211,56)"
           ],
           [
            0.75,
            "rgb(242,143,56)"
           ],
           [
            1,
            "rgb(217,30,30)"
           ]
          ],
          "line": {
           "width": 2
          },
          "reversescale": false,
          "showscale": true,
          "size": [
           5.303030303030303,
           6.8181818181818175,
           5.303030303030303,
           22.727272727272727,
           14.393939393939394,
           29.545454545454547,
           100,
           5.303030303030303,
           49.24242424242424,
           4.545454545454546,
           5.303030303030303,
           9.090909090909092,
           6.0606060606060606,
           8.333333333333332,
           4.545454545454546,
           7.575757575757576,
           3.787878787878788,
           6.0606060606060606,
           4.545454545454546,
           16.666666666666664,
           18.939393939393938,
           9.090909090909092,
           10.606060606060606,
           6.0606060606060606,
           36.36363636363637,
           3.787878787878788,
           5.303030303030303,
           11.363636363636363
          ]
         },
         "mode": "markers+text",
         "text": [
          "backwards",
          "balance",
          "bathroom",
          "bed",
          "chair",
          "fall",
          "fell",
          "flight",
          "floor",
          "forward",
          "found",
          "getting",
          "got",
          "head",
          "hit",
          "lost",
          "missed",
          "shower",
          "slip",
          "slipped",
          "stairs",
          "step",
          "steps",
          "trip",
          "tripped",
          "trying",
          "walker",
          "walking"
         ],
         "textposition": "top center",
         "type": "scatter",
         "x": [
          -0.35448839777692026,
          0.20014683740535047,
          0.15593144709542295,
          -0.06687989396704587,
          0.1831798358146611,
          0.22549627288909266,
          -0.0988643370521542,
          -0.3930596795009822,
          0.1840633724174709,
          -0.4827542748000443,
          0.1429002733514522,
          -0.1542388424845009,
          -0.1720298068009883,
          0.3506286811732239,
          0.4623385426058648,
          0.05125492241232297,
          -1,
          0.06285192788386758,
          0.5836332775860518,
          -0.0982429414810773,
          -0.18793177494074162,
          -0.6380208230285901,
          0.16225633566186037,
          0.6368062889277729,
          -0.004092169901480788,
          0.35133005809903867,
          0.29750538454260983,
          -0.39972051613154064
         ],
         "y": [
          -0.35546019958563035,
          0.2252053288474001,
          -0.2726457198483063,
          0.3783615085393927,
          0.4697353692168745,
          0.12037947891879597,
          -0.03441261400183764,
          -0.05078750206433738,
          -0.45596200583072316,
          -0.22573638156588843,
          -0.8542468515475403,
          0.7247106647814724,
          0.24747920841307508,
          -0.8183992552633262,
          -0.7326700190967972,
          0.22940112213287697,
          0.23515156116323416,
          0.5717434211170795,
          0.3202468177550952,
          -0.4411349849116162,
          0.07569494042767007,
          0.12408995923824107,
          -0.045575674784652694,
          0.11429336040390735,
          -0.36967388981008176,
          0.8402855601487126,
          -0.1542801499979438,
          0.13420694720485546
         ]
        }
       ],
       "layout": {
        "autosize": false,
        "dragmode": "pan",
        "font": {
         "size": 14
        },
        "height": 500,
        "hovermode": "closest",
        "margin": {
         "b": 0,
         "l": 0,
         "r": 0,
         "t": 20
        },
        "paper_bgcolor": "rgba(0, 0, 0, 0)",
        "plot_bgcolor": "rgba(0, 0, 0, 0)",
        "showlegend": false,
        "template": {
         "data": {
          "bar": [
           {
            "error_x": {
             "color": "#2a3f5f"
            },
            "error_y": {
             "color": "#2a3f5f"
            },
            "marker": {
             "line": {
              "color": "#E5ECF6",
              "width": 0.5
             },
             "pattern": {
              "fillmode": "overlay",
              "size": 10,
              "solidity": 0.2
             }
            },
            "type": "bar"
           }
          ],
          "barpolar": [
           {
            "marker": {
             "line": {
              "color": "#E5ECF6",
              "width": 0.5
             },
             "pattern": {
              "fillmode": "overlay",
              "size": 10,
              "solidity": 0.2
             }
            },
            "type": "barpolar"
           }
          ],
          "carpet": [
           {
            "aaxis": {
             "endlinecolor": "#2a3f5f",
             "gridcolor": "white",
             "linecolor": "white",
             "minorgridcolor": "white",
             "startlinecolor": "#2a3f5f"
            },
            "baxis": {
             "endlinecolor": "#2a3f5f",
             "gridcolor": "white",
             "linecolor": "white",
             "minorgridcolor": "white",
             "startlinecolor": "#2a3f5f"
            },
            "type": "carpet"
           }
          ],
          "choropleth": [
           {
            "colorbar": {
             "outlinewidth": 0,
             "ticks": ""
            },
            "type": "choropleth"
           }
          ],
          "contour": [
           {
            "colorbar": {
             "outlinewidth": 0,
             "ticks": ""
            },
            "colorscale": [
             [
              0,
              "#0d0887"
             ],
             [
              0.1111111111111111,
              "#46039f"
             ],
             [
              0.2222222222222222,
              "#7201a8"
             ],
             [
              0.3333333333333333,
              "#9c179e"
             ],
             [
              0.4444444444444444,
              "#bd3786"
             ],
             [
              0.5555555555555556,
              "#d8576b"
             ],
             [
              0.6666666666666666,
              "#ed7953"
             ],
             [
              0.7777777777777778,
              "#fb9f3a"
             ],
             [
              0.8888888888888888,
              "#fdca26"
             ],
             [
              1,
              "#f0f921"
             ]
            ],
            "type": "contour"
           }
          ],
          "contourcarpet": [
           {
            "colorbar": {
             "outlinewidth": 0,
             "ticks": ""
            },
            "type": "contourcarpet"
           }
          ],
          "heatmap": [
           {
            "colorbar": {
             "outlinewidth": 0,
             "ticks": ""
            },
            "colorscale": [
             [
              0,
              "#0d0887"
             ],
             [
              0.1111111111111111,
              "#46039f"
             ],
             [
              0.2222222222222222,
              "#7201a8"
             ],
             [
              0.3333333333333333,
              "#9c179e"
             ],
             [
              0.4444444444444444,
              "#bd3786"
             ],
             [
              0.5555555555555556,
              "#d8576b"
             ],
             [
              0.6666666666666666,
              "#ed7953"
             ],
             [
              0.7777777777777778,
              "#fb9f3a"
             ],
             [
              0.8888888888888888,
              "#fdca26"
             ],
             [
              1,
              "#f0f921"
             ]
            ],
            "type": "heatmap"
           }
          ],
          "heatmapgl": [
           {
            "colorbar": {
             "outlinewidth": 0,
             "ticks": ""
            },
            "colorscale": [
             [
              0,
              "#0d0887"
             ],
             [
              0.1111111111111111,
              "#46039f"
             ],
             [
              0.2222222222222222,
              "#7201a8"
             ],
             [
              0.3333333333333333,
              "#9c179e"
             ],
             [
              0.4444444444444444,
              "#bd3786"
             ],
             [
              0.5555555555555556,
              "#d8576b"
             ],
             [
              0.6666666666666666,
              "#ed7953"
             ],
             [
              0.7777777777777778,
              "#fb9f3a"
             ],
             [
              0.8888888888888888,
              "#fdca26"
             ],
             [
              1,
              "#f0f921"
             ]
            ],
            "type": "heatmapgl"
           }
          ],
          "histogram": [
           {
            "marker": {
             "pattern": {
              "fillmode": "overlay",
              "size": 10,
              "solidity": 0.2
             }
            },
            "type": "histogram"
           }
          ],
          "histogram2d": [
           {
            "colorbar": {
             "outlinewidth": 0,
             "ticks": ""
            },
            "colorscale": [
             [
              0,
              "#0d0887"
             ],
             [
              0.1111111111111111,
              "#46039f"
             ],
             [
              0.2222222222222222,
              "#7201a8"
             ],
             [
              0.3333333333333333,
              "#9c179e"
             ],
             [
              0.4444444444444444,
              "#bd3786"
             ],
             [
              0.5555555555555556,
              "#d8576b"
             ],
             [
              0.6666666666666666,
              "#ed7953"
             ],
             [
              0.7777777777777778,
              "#fb9f3a"
             ],
             [
              0.8888888888888888,
              "#fdca26"
             ],
             [
              1,
              "#f0f921"
             ]
            ],
            "type": "histogram2d"
           }
          ],
          "histogram2dcontour": [
           {
            "colorbar": {
             "outlinewidth": 0,
             "ticks": ""
            },
            "colorscale": [
             [
              0,
              "#0d0887"
             ],
             [
              0.1111111111111111,
              "#46039f"
             ],
             [
              0.2222222222222222,
              "#7201a8"
             ],
             [
              0.3333333333333333,
              "#9c179e"
             ],
             [
              0.4444444444444444,
              "#bd3786"
             ],
             [
              0.5555555555555556,
              "#d8576b"
             ],
             [
              0.6666666666666666,
              "#ed7953"
             ],
             [
              0.7777777777777778,
              "#fb9f3a"
             ],
             [
              0.8888888888888888,
              "#fdca26"
             ],
             [
              1,
              "#f0f921"
             ]
            ],
            "type": "histogram2dcontour"
           }
          ],
          "mesh3d": [
           {
            "colorbar": {
             "outlinewidth": 0,
             "ticks": ""
            },
            "type": "mesh3d"
           }
          ],
          "parcoords": [
           {
            "line": {
             "colorbar": {
              "outlinewidth": 0,
              "ticks": ""
             }
            },
            "type": "parcoords"
           }
          ],
          "pie": [
           {
            "automargin": true,
            "type": "pie"
           }
          ],
          "scatter": [
           {
            "fillpattern": {
             "fillmode": "overlay",
             "size": 10,
             "solidity": 0.2
            },
            "type": "scatter"
           }
          ],
          "scatter3d": [
           {
            "line": {
             "colorbar": {
              "outlinewidth": 0,
              "ticks": ""
             }
            },
            "marker": {
             "colorbar": {
              "outlinewidth": 0,
              "ticks": ""
             }
            },
            "type": "scatter3d"
           }
          ],
          "scattercarpet": [
           {
            "marker": {
             "colorbar": {
              "outlinewidth": 0,
              "ticks": ""
             }
            },
            "type": "scattercarpet"
           }
          ],
          "scattergeo": [
           {
            "marker": {
             "colorbar": {
              "outlinewidth": 0,
              "ticks": ""
             }
            },
            "type": "scattergeo"
           }
          ],
          "scattergl": [
           {
            "marker": {
             "colorbar": {
              "outlinewidth": 0,
              "ticks": ""
             }
            },
            "type": "scattergl"
           }
          ],
          "scattermapbox": [
           {
            "marker": {
             "colorbar": {
              "outlinewidth": 0,
              "ticks": ""
             }
            },
            "type": "scattermapbox"
           }
          ],
          "scatterpolar": [
           {
            "marker": {
             "colorbar": {
              "outlinewidth": 0,
              "ticks": ""
             }
            },
            "type": "scatterpolar"
           }
          ],
          "scatterpolargl": [
           {
            "marker": {
             "colorbar": {
              "outlinewidth": 0,
              "ticks": ""
             }
            },
            "type": "scatterpolargl"
           }
          ],
          "scatterternary": [
           {
            "marker": {
             "colorbar": {
              "outlinewidth": 0,
              "ticks": ""
             }
            },
            "type": "scatterternary"
           }
          ],
          "surface": [
           {
            "colorbar": {
             "outlinewidth": 0,
             "ticks": ""
            },
            "colorscale": [
             [
              0,
              "#0d0887"
             ],
             [
              0.1111111111111111,
              "#46039f"
             ],
             [
              0.2222222222222222,
              "#7201a8"
             ],
             [
              0.3333333333333333,
              "#9c179e"
             ],
             [
              0.4444444444444444,
              "#bd3786"
             ],
             [
              0.5555555555555556,
              "#d8576b"
             ],
             [
              0.6666666666666666,
              "#ed7953"
             ],
             [
              0.7777777777777778,
              "#fb9f3a"
             ],
             [
              0.8888888888888888,
              "#fdca26"
             ],
             [
              1,
              "#f0f921"
             ]
            ],
            "type": "surface"
           }
          ],
          "table": [
           {
            "cells": {
             "fill": {
              "color": "#EBF0F8"
             },
             "line": {
              "color": "white"
             }
            },
            "header": {
             "fill": {
              "color": "#C8D4E3"
             },
             "line": {
              "color": "white"
             }
            },
            "type": "table"
           }
          ]
         },
         "layout": {
          "annotationdefaults": {
           "arrowcolor": "#2a3f5f",
           "arrowhead": 0,
           "arrowwidth": 1
          },
          "autotypenumbers": "strict",
          "coloraxis": {
           "colorbar": {
            "outlinewidth": 0,
            "ticks": ""
           }
          },
          "colorscale": {
           "diverging": [
            [
             0,
             "#8e0152"
            ],
            [
             0.1,
             "#c51b7d"
            ],
            [
             0.2,
             "#de77ae"
            ],
            [
             0.3,
             "#f1b6da"
            ],
            [
             0.4,
             "#fde0ef"
            ],
            [
             0.5,
             "#f7f7f7"
            ],
            [
             0.6,
             "#e6f5d0"
            ],
            [
             0.7,
             "#b8e186"
            ],
            [
             0.8,
             "#7fbc41"
            ],
            [
             0.9,
             "#4d9221"
            ],
            [
             1,
             "#276419"
            ]
           ],
           "sequential": [
            [
             0,
             "#0d0887"
            ],
            [
             0.1111111111111111,
             "#46039f"
            ],
            [
             0.2222222222222222,
             "#7201a8"
            ],
            [
             0.3333333333333333,
             "#9c179e"
            ],
            [
             0.4444444444444444,
             "#bd3786"
            ],
            [
             0.5555555555555556,
             "#d8576b"
            ],
            [
             0.6666666666666666,
             "#ed7953"
            ],
            [
             0.7777777777777778,
             "#fb9f3a"
            ],
            [
             0.8888888888888888,
             "#fdca26"
            ],
            [
             1,
             "#f0f921"
            ]
           ],
           "sequentialminus": [
            [
             0,
             "#0d0887"
            ],
            [
             0.1111111111111111,
             "#46039f"
            ],
            [
             0.2222222222222222,
             "#7201a8"
            ],
            [
             0.3333333333333333,
             "#9c179e"
            ],
            [
             0.4444444444444444,
             "#bd3786"
            ],
            [
             0.5555555555555556,
             "#d8576b"
            ],
            [
             0.6666666666666666,
             "#ed7953"
            ],
            [
             0.7777777777777778,
             "#fb9f3a"
            ],
            [
             0.8888888888888888,
             "#fdca26"
            ],
            [
             1,
             "#f0f921"
            ]
           ]
          },
          "colorway": [
           "#636efa",
           "#EF553B",
           "#00cc96",
           "#ab63fa",
           "#FFA15A",
           "#19d3f3",
           "#FF6692",
           "#B6E880",
           "#FF97FF",
           "#FECB52"
          ],
          "font": {
           "color": "#2a3f5f"
          },
          "geo": {
           "bgcolor": "white",
           "lakecolor": "white",
           "landcolor": "#E5ECF6",
           "showlakes": true,
           "showland": true,
           "subunitcolor": "white"
          },
          "hoverlabel": {
           "align": "left"
          },
          "hovermode": "closest",
          "mapbox": {
           "style": "light"
          },
          "paper_bgcolor": "white",
          "plot_bgcolor": "#E5ECF6",
          "polar": {
           "angularaxis": {
            "gridcolor": "white",
            "linecolor": "white",
            "ticks": ""
           },
           "bgcolor": "#E5ECF6",
           "radialaxis": {
            "gridcolor": "white",
            "linecolor": "white",
            "ticks": ""
           }
          },
          "scene": {
           "xaxis": {
            "backgroundcolor": "#E5ECF6",
            "gridcolor": "white",
            "gridwidth": 2,
            "linecolor": "white",
            "showbackground": true,
            "ticks": "",
            "zerolinecolor": "white"
           },
           "yaxis": {
            "backgroundcolor": "#E5ECF6",
            "gridcolor": "white",
            "gridwidth": 2,
            "linecolor": "white",
            "showbackground": true,
            "ticks": "",
            "zerolinecolor": "white"
           },
           "zaxis": {
            "backgroundcolor": "#E5ECF6",
            "gridcolor": "white",
            "gridwidth": 2,
            "linecolor": "white",
            "showbackground": true,
            "ticks": "",
            "zerolinecolor": "white"
           }
          },
          "shapedefaults": {
           "line": {
            "color": "#2a3f5f"
           }
          },
          "ternary": {
           "aaxis": {
            "gridcolor": "white",
            "linecolor": "white",
            "ticks": ""
           },
           "baxis": {
            "gridcolor": "white",
            "linecolor": "white",
            "ticks": ""
           },
           "bgcolor": "#E5ECF6",
           "caxis": {
            "gridcolor": "white",
            "linecolor": "white",
            "ticks": ""
           }
          },
          "title": {
           "x": 0.05
          },
          "xaxis": {
           "automargin": true,
           "gridcolor": "white",
           "linecolor": "white",
           "ticks": "",
           "title": {
            "standoff": 15
           },
           "zerolinecolor": "white",
           "zerolinewidth": 2
          },
          "yaxis": {
           "automargin": true,
           "gridcolor": "white",
           "linecolor": "white",
           "ticks": "",
           "title": {
            "standoff": 15
           },
           "zerolinecolor": "white",
           "zerolinewidth": 2
          }
         }
        },
        "width": 1000,
        "xaxis": {
         "autorange": true,
         "range": [
          -1.0985589734549228,
          0.7371442434718193
         ],
         "showgrid": false,
         "showticklabels": false,
         "title": {},
         "type": "linear",
         "zeroline": false
        },
        "yaxis": {
         "autorange": true,
         "range": [
          -0.9629776265072014,
          0.9477648229295287
         ],
         "showgrid": false,
         "showticklabels": false,
         "type": "linear",
         "zeroline": false
        }
       }
      },
      "image/png": "[encoded data removed]",
      "text/html": [
       "<div>                            <div id=\"01bdf1ff-ec52-4621-95d6-5ebdd6790c2c\" class=\"plotly-graph-div\" style=\"height:500px; width:1000px;\"></div>            <script type=\"text/javascript\">                require([\"plotly\"], function(Plotly) {                    window.PLOTLYENV=window.PLOTLYENV || {};                                    if (document.getElementById(\"01bdf1ff-ec52-4621-95d6-5ebdd6790c2c\")) {                    Plotly.newPlot(                        \"01bdf1ff-ec52-4621-95d6-5ebdd6790c2c\",                        [{\"line\":{\"color\":\"#888\",\"width\":0.5},\"mode\":\"lines\",\"opacity\":1,\"x\":[-0.35448839777692026,-0.0988643370521542,null,0.20014683740535047,-0.0988643370521542,null,0.20014683740535047,0.05125492241232297,null,0.15593144709542295,-0.0988643370521542,null,-0.06687989396704587,0.22549627288909266,null,-0.06687989396704587,-0.0988643370521542,null,-0.06687989396704587,-0.1542388424845009,null,0.1831798358146611,-0.0988643370521542,null,0.1831798358146611,0.35133005809903867,null,0.22549627288909266,0.1840633724174709,null,0.22549627288909266,0.06285192788386758,null,0.22549627288909266,0.5836332775860518,null,0.22549627288909266,0.16225633566186037,null,0.22549627288909266,0.6368062889277729,null,0.22549627288909266,-0.18793177494074162,null,-0.0988643370521542,0.1840633724174709,null,-0.0988643370521542,0.29750538454260983,null,-0.0988643370521542,-0.1720298068009883,null,-0.0988643370521542,-0.6380208230285901,null,-0.0988643370521542,-0.0982429414810773,null,-0.0988643370521542,-0.004092169901480788,null,-0.0988643370521542,-0.18793177494074162,null,-0.0988643370521542,0.05125492241232297,null,-0.0988643370521542,0.16225633566186037,null,-0.0988643370521542,-0.3930596795009822,null,-0.0988643370521542,-0.39972051613154064,null,-0.0988643370521542,-0.4827542748000443,null,-0.3930596795009822,-0.18793177494074162,null,0.1840633724174709,-0.004092169901480788,null,0.1840633724174709,-0.0982429414810773,null,0.1840633724174709,0.1429002733514522,null,0.1840633724174709,0.4623385426058648,null,0.1840633724174709,0.3506286811732239,null,-0.1542388424845009,0.06285192788386758,null,0.3506286811732239,0.4623385426058648,null,-1.0,-0.6380208230285901,null,-0.18793177494074162,-0.39972051613154064,null],\"y\":[-0.35546019958563035,-0.03441261400183764,null,0.2252053288474001,-0.03441261400183764,null,0.2252053288474001,0.22940112213287697,null,-0.2726457198483063,-0.03441261400183764,null,0.3783615085393927,0.12037947891879597,null,0.3783615085393927,-0.03441261400183764,null,0.3783615085393927,0.7247106647814724,null,0.4697353692168745,-0.03441261400183764,null,0.4697353692168745,0.8402855601487126,null,0.12037947891879597,-0.45596200583072316,null,0.12037947891879597,0.5717434211170795,null,0.12037947891879597,0.3202468177550952,null,0.12037947891879597,-0.045575674784652694,null,0.12037947891879597,0.11429336040390735,null,0.12037947891879597,0.07569494042767007,null,-0.03441261400183764,-0.45596200583072316,null,-0.03441261400183764,-0.1542801499979438,null,-0.03441261400183764,0.24747920841307508,null,-0.03441261400183764,0.12408995923824107,null,-0.03441261400183764,-0.4411349849116162,null,-0.03441261400183764,-0.36967388981008176,null,-0.03441261400183764,0.07569494042767007,null,-0.03441261400183764,0.22940112213287697,null,-0.03441261400183764,-0.045575674784652694,null,-0.03441261400183764,-0.05078750206433738,null,-0.03441261400183764,0.13420694720485546,null,-0.03441261400183764,-0.22573638156588843,null,-0.05078750206433738,0.07569494042767007,null,-0.45596200583072316,-0.36967388981008176,null,-0.45596200583072316,-0.4411349849116162,null,-0.45596200583072316,-0.8542468515475403,null,-0.45596200583072316,-0.7326700190967972,null,-0.45596200583072316,-0.8183992552633262,null,0.7247106647814724,0.5717434211170795,null,-0.8183992552633262,-0.7326700190967972,null,0.23515156116323416,0.12408995923824107,null,0.07569494042767007,0.13420694720485546,null],\"type\":\"scatter\"},{\"hoverinfo\":\"text\",\"hovertext\":[\"backwards:7\",\"balance:9\",\"bathroom:7\",\"bed:30\",\"chair:19\",\"fall:39\",\"fell:132\",\"flight:7\",\"floor:65\",\"forward:6\",\"found:7\",\"getting:12\",\"got:8\",\"head:11\",\"hit:6\",\"lost:10\",\"missed:5\",\"shower:8\",\"slip:6\",\"slipped:22\",\"stairs:25\",\"step:12\",\"steps:14\",\"trip:8\",\"tripped:48\",\"trying:5\",\"walker:7\",\"walking:15\"],\"marker\":{\"color\":[0.025362318840579712,0.03260869565217391,0.025362318840579712,0.10869565217391304,0.06884057971014493,0.14130434782608695,0.4782608695652174,0.025362318840579712,0.23550724637681159,0.021739130434782608,0.025362318840579712,0.043478260869565216,0.028985507246376812,0.03985507246376811,0.021739130434782608,0.036231884057971016,0.018115942028985508,0.028985507246376812,0.021739130434782608,0.07971014492753623,0.09057971014492754,0.043478260869565216,0.050724637681159424,0.028985507246376812,0.17391304347826086,0.018115942028985508,0.025362318840579712,0.05434782608695652],\"colorbar\":{\"thickness\":16,\"title\":{\"text\":\"Word Appearance\"}},\"colorscale\":[[0.0,\"rgb(12,51,131)\"],[0.25,\"rgb(10,136,186)\"],[0.5,\"rgb(242,211,56)\"],[0.75,\"rgb(242,143,56)\"],[1.0,\"rgb(217,30,30)\"]],\"line\":{\"width\":2},\"reversescale\":false,\"showscale\":true,\"size\":[5.303030303030303,6.8181818181818175,5.303030303030303,22.727272727272727,14.393939393939394,29.545454545454547,100.0,5.303030303030303,49.24242424242424,4.545454545454546,5.303030303030303,9.090909090909092,6.0606060606060606,8.333333333333332,4.545454545454546,7.575757575757576,3.787878787878788,6.0606060606060606,4.545454545454546,16.666666666666664,18.939393939393938,9.090909090909092,10.606060606060606,6.0606060606060606,36.36363636363637,3.787878787878788,5.303030303030303,11.363636363636363]},\"mode\":\"markers+text\",\"text\":[\"backwards\",\"balance\",\"bathroom\",\"bed\",\"chair\",\"fall\",\"fell\",\"flight\",\"floor\",\"forward\",\"found\",\"getting\",\"got\",\"head\",\"hit\",\"lost\",\"missed\",\"shower\",\"slip\",\"slipped\",\"stairs\",\"step\",\"steps\",\"trip\",\"tripped\",\"trying\",\"walker\",\"walking\"],\"textposition\":\"top center\",\"x\":[-0.35448839777692026,0.20014683740535047,0.15593144709542295,-0.06687989396704587,0.1831798358146611,0.22549627288909266,-0.0988643370521542,-0.3930596795009822,0.1840633724174709,-0.4827542748000443,0.1429002733514522,-0.1542388424845009,-0.1720298068009883,0.3506286811732239,0.4623385426058648,0.05125492241232297,-1.0,0.06285192788386758,0.5836332775860518,-0.0982429414810773,-0.18793177494074162,-0.6380208230285901,0.16225633566186037,0.6368062889277729,-0.004092169901480788,0.35133005809903867,0.29750538454260983,-0.39972051613154064],\"y\":[-0.35546019958563035,0.2252053288474001,-0.2726457198483063,0.3783615085393927,0.4697353692168745,0.12037947891879597,-0.03441261400183764,-0.05078750206433738,-0.45596200583072316,-0.22573638156588843,-0.8542468515475403,0.7247106647814724,0.24747920841307508,-0.8183992552633262,-0.7326700190967972,0.22940112213287697,0.23515156116323416,0.5717434211170795,0.3202468177550952,-0.4411349849116162,0.07569494042767007,0.12408995923824107,-0.045575674784652694,0.11429336040390735,-0.36967388981008176,0.8402855601487126,-0.1542801499979438,0.13420694720485546],\"type\":\"scatter\"}],                        {\"font\":{\"size\":14},\"hovermode\":\"closest\",\"margin\":{\"b\":0,\"l\":0,\"r\":0,\"t\":20},\"paper_bgcolor\":\"rgba(0,0,0,0)\",\"plot_bgcolor\":\"rgba(0,0,0,0)\",\"showlegend\":false,\"xaxis\":{\"showgrid\":false,\"showticklabels\":false,\"zeroline\":false,\"title\":{}},\"yaxis\":{\"showgrid\":false,\"showticklabels\":false,\"zeroline\":false},\"template\":{\"data\":{\"histogram2dcontour\":[{\"type\":\"histogram2dcontour\",\"colorbar\":{\"outlinewidth\":0,\"ticks\":\"\"},\"colorscale\":[[0.0,\"#0d0887\"],[0.1111111111111111,\"#46039f\"],[0.2222222222222222,\"#7201a8\"],[0.3333333333333333,\"#9c179e\"],[0.4444444444444444,\"#bd3786\"],[0.5555555555555556,\"#d8576b\"],[0.6666666666666666,\"#ed7953\"],[0.7777777777777778,\"#fb9f3a\"],[0.8888888888888888,\"#fdca26\"],[1.0,\"#f0f921\"]]}],\"choropleth\":[{\"type\":\"choropleth\",\"colorbar\":{\"outlinewidth\":0,\"ticks\":\"\"}}],\"histogram2d\":[{\"type\":\"histogram2d\",\"colorbar\":{\"outlinewidth\":0,\"ticks\":\"\"},\"colorscale\":[[0.0,\"#0d0887\"],[0.1111111111111111,\"#46039f\"],[0.2222222222222222,\"#7201a8\"],[0.3333333333333333,\"#9c179e\"],[0.4444444444444444,\"#bd3786\"],[0.5555555555555556,\"#d8576b\"],[0.6666666666666666,\"#ed7953\"],[0.7777777777777778,\"#fb9f3a\"],[0.8888888888888888,\"#fdca26\"],[1.0,\"#f0f921\"]]}],\"heatmap\":[{\"type\":\"heatmap\",\"colorbar\":{\"outlinewidth\":0,\"ticks\":\"\"},\"colorscale\":[[0.0,\"#0d0887\"],[0.1111111111111111,\"#46039f\"],[0.2222222222222222,\"#7201a8\"],[0.3333333333333333,\"#9c179e\"],[0.4444444444444444,\"#bd3786\"],[0.5555555555555556,\"#d8576b\"],[0.6666666666666666,\"#ed7953\"],[0.7777777777777778,\"#fb9f3a\"],[0.8888888888888888,\"#fdca26\"],[1.0,\"#f0f921\"]]}],\"heatmapgl\":[{\"type\":\"heatmapgl\",\"colorbar\":{\"outlinewidth\":0,\"ticks\":\"\"},\"colorscale\":[[0.0,\"#0d0887\"],[0.1111111111111111,\"#46039f\"],[0.2222222222222222,\"#7201a8\"],[0.3333333333333333,\"#9c179e\"],[0.4444444444444444,\"#bd3786\"],[0.5555555555555556,\"#d8576b\"],[0.6666666666666666,\"#ed7953\"],[0.7777777777777778,\"#fb9f3a\"],[0.8888888888888888,\"#fdca26\"],[1.0,\"#f0f921\"]]}],\"contourcarpet\":[{\"type\":\"contourcarpet\",\"colorbar\":{\"outlinewidth\":0,\"ticks\":\"\"}}],\"contour\":[{\"type\":\"contour\",\"colorbar\":{\"outlinewidth\":0,\"ticks\":\"\"},\"colorscale\":[[0.0,\"#0d0887\"],[0.1111111111111111,\"#46039f\"],[0.2222222222222222,\"#7201a8\"],[0.3333333333333333,\"#9c179e\"],[0.4444444444444444,\"#bd3786\"],[0.5555555555555556,\"#d8576b\"],[0.6666666666666666,\"#ed7953\"],[0.7777777777777778,\"#fb9f3a\"],[0.8888888888888888,\"#fdca26\"],[1.0,\"#f0f921\"]]}],\"surface\":[{\"type\":\"surface\",\"colorbar\":{\"outlinewidth\":0,\"ticks\":\"\"},\"colorscale\":[[0.0,\"#0d0887\"],[0.1111111111111111,\"#46039f\"],[0.2222222222222222,\"#7201a8\"],[0.3333333333333333,\"#9c179e\"],[0.4444444444444444,\"#bd3786\"],[0.5555555555555556,\"#d8576b\"],[0.6666666666666666,\"#ed7953\"],[0.7777777777777778,\"#fb9f3a\"],[0.8888888888888888,\"#fdca26\"],[1.0,\"#f0f921\"]]}],\"mesh3d\":[{\"type\":\"mesh3d\",\"colorbar\":{\"outlinewidth\":0,\"ticks\":\"\"}}],\"scatter\":[{\"fillpattern\":{\"fillmode\":\"overlay\",\"size\":10,\"solidity\":0.2},\"type\":\"scatter\"}],\"parcoords\":[{\"type\":\"parcoords\",\"line\":{\"colorbar\":{\"outlinewidth\":0,\"ticks\":\"\"}}}],\"scatterpolargl\":[{\"type\":\"scatterpolargl\",\"marker\":{\"colorbar\":{\"outlinewidth\":0,\"ticks\":\"\"}}}],\"bar\":[{\"error_x\":{\"color\":\"#2a3f5f\"},\"error_y\":{\"color\":\"#2a3f5f\"},\"marker\":{\"line\":{\"color\":\"#E5ECF6\",\"width\":0.5},\"pattern\":{\"fillmode\":\"overlay\",\"size\":10,\"solidity\":0.2}},\"type\":\"bar\"}],\"scattergeo\":[{\"type\":\"scattergeo\",\"marker\":{\"colorbar\":{\"outlinewidth\":0,\"ticks\":\"\"}}}],\"scatterpolar\":[{\"type\":\"scatterpolar\",\"marker\":{\"colorbar\":{\"outlinewidth\":0,\"ticks\":\"\"}}}],\"histogram\":[{\"marker\":{\"pattern\":{\"fillmode\":\"overlay\",\"size\":10,\"solidity\":0.2}},\"type\":\"histogram\"}],\"scattergl\":[{\"type\":\"scattergl\",\"marker\":{\"colorbar\":{\"outlinewidth\":0,\"ticks\":\"\"}}}],\"scatter3d\":[{\"type\":\"scatter3d\",\"line\":{\"colorbar\":{\"outlinewidth\":0,\"ticks\":\"\"}},\"marker\":{\"colorbar\":{\"outlinewidth\":0,\"ticks\":\"\"}}}],\"scattermapbox\":[{\"type\":\"scattermapbox\",\"marker\":{\"colorbar\":{\"outlinewidth\":0,\"ticks\":\"\"}}}],\"scatterternary\":[{\"type\":\"scatterternary\",\"marker\":{\"colorbar\":{\"outlinewidth\":0,\"ticks\":\"\"}}}],\"scattercarpet\":[{\"type\":\"scattercarpet\",\"marker\":{\"colorbar\":{\"outlinewidth\":0,\"ticks\":\"\"}}}],\"carpet\":[{\"aaxis\":{\"endlinecolor\":\"#2a3f5f\",\"gridcolor\":\"white\",\"linecolor\":\"white\",\"minorgridcolor\":\"white\",\"startlinecolor\":\"#2a3f5f\"},\"baxis\":{\"endlinecolor\":\"#2a3f5f\",\"gridcolor\":\"white\",\"linecolor\":\"white\",\"minorgridcolor\":\"white\",\"startlinecolor\":\"#2a3f5f\"},\"type\":\"carpet\"}],\"table\":[{\"cells\":{\"fill\":{\"color\":\"#EBF0F8\"},\"line\":{\"color\":\"white\"}},\"header\":{\"fill\":{\"color\":\"#C8D4E3\"},\"line\":{\"color\":\"white\"}},\"type\":\"table\"}],\"barpolar\":[{\"marker\":{\"line\":{\"color\":\"#E5ECF6\",\"width\":0.5},\"pattern\":{\"fillmode\":\"overlay\",\"size\":10,\"solidity\":0.2}},\"type\":\"barpolar\"}],\"pie\":[{\"automargin\":true,\"type\":\"pie\"}]},\"layout\":{\"autotypenumbers\":\"strict\",\"colorway\":[\"#636efa\",\"#EF553B\",\"#00cc96\",\"#ab63fa\",\"#FFA15A\",\"#19d3f3\",\"#FF6692\",\"#B6E880\",\"#FF97FF\",\"#FECB52\"],\"font\":{\"color\":\"#2a3f5f\"},\"hovermode\":\"closest\",\"hoverlabel\":{\"align\":\"left\"},\"paper_bgcolor\":\"white\",\"plot_bgcolor\":\"#E5ECF6\",\"polar\":{\"bgcolor\":\"#E5ECF6\",\"angularaxis\":{\"gridcolor\":\"white\",\"linecolor\":\"white\",\"ticks\":\"\"},\"radialaxis\":{\"gridcolor\":\"white\",\"linecolor\":\"white\",\"ticks\":\"\"}},\"ternary\":{\"bgcolor\":\"#E5ECF6\",\"aaxis\":{\"gridcolor\":\"white\",\"linecolor\":\"white\",\"ticks\":\"\"},\"baxis\":{\"gridcolor\":\"white\",\"linecolor\":\"white\",\"ticks\":\"\"},\"caxis\":{\"gridcolor\":\"white\",\"linecolor\":\"white\",\"ticks\":\"\"}},\"coloraxis\":{\"colorbar\":{\"outlinewidth\":0,\"ticks\":\"\"}},\"colorscale\":{\"sequential\":[[0.0,\"#0d0887\"],[0.1111111111111111,\"#46039f\"],[0.2222222222222222,\"#7201a8\"],[0.3333333333333333,\"#9c179e\"],[0.4444444444444444,\"#bd3786\"],[0.5555555555555556,\"#d8576b\"],[0.6666666666666666,\"#ed7953\"],[0.7777777777777778,\"#fb9f3a\"],[0.8888888888888888,\"#fdca26\"],[1.0,\"#f0f921\"]],\"sequentialminus\":[[0.0,\"#0d0887\"],[0.1111111111111111,\"#46039f\"],[0.2222222222222222,\"#7201a8\"],[0.3333333333333333,\"#9c179e\"],[0.4444444444444444,\"#bd3786\"],[0.5555555555555556,\"#d8576b\"],[0.6666666666666666,\"#ed7953\"],[0.7777777777777778,\"#fb9f3a\"],[0.8888888888888888,\"#fdca26\"],[1.0,\"#f0f921\"]],\"diverging\":[[0,\"#8e0152\"],[0.1,\"#c51b7d\"],[0.2,\"#de77ae\"],[0.3,\"#f1b6da\"],[0.4,\"#fde0ef\"],[0.5,\"#f7f7f7\"],[0.6,\"#e6f5d0\"],[0.7,\"#b8e186\"],[0.8,\"#7fbc41\"],[0.9,\"#4d9221\"],[1,\"#276419\"]]},\"xaxis\":{\"gridcolor\":\"white\",\"linecolor\":\"white\",\"ticks\":\"\",\"title\":{\"standoff\":15},\"zerolinecolor\":\"white\",\"automargin\":true,\"zerolinewidth\":2},\"yaxis\":{\"gridcolor\":\"white\",\"linecolor\":\"white\",\"ticks\":\"\",\"title\":{\"standoff\":15},\"zerolinecolor\":\"white\",\"automargin\":true,\"zerolinewidth\":2},\"scene\":{\"xaxis\":{\"backgroundcolor\":\"#E5ECF6\",\"gridcolor\":\"white\",\"linecolor\":\"white\",\"showbackground\":true,\"ticks\":\"\",\"zerolinecolor\":\"white\",\"gridwidth\":2},\"yaxis\":{\"backgroundcolor\":\"#E5ECF6\",\"gridcolor\":\"white\",\"linecolor\":\"white\",\"showbackground\":true,\"ticks\":\"\",\"zerolinecolor\":\"white\",\"gridwidth\":2},\"zaxis\":{\"backgroundcolor\":\"#E5ECF6\",\"gridcolor\":\"white\",\"linecolor\":\"white\",\"showbackground\":true,\"ticks\":\"\",\"zerolinecolor\":\"white\",\"gridwidth\":2}},\"shapedefaults\":{\"line\":{\"color\":\"#2a3f5f\"}},\"annotationdefaults\":{\"arrowcolor\":\"#2a3f5f\",\"arrowhead\":0,\"arrowwidth\":1},\"geo\":{\"bgcolor\":\"white\",\"landcolor\":\"#E5ECF6\",\"subunitcolor\":\"white\",\"showland\":true,\"showlakes\":true,\"lakecolor\":\"white\"},\"title\":{\"x\":0.05},\"mapbox\":{\"style\":\"light\"}}},\"dragmode\":\"pan\",\"autosize\":false,\"width\":1000,\"height\":500},                        {\"scrollZoom\": true, \"displaylogo\": false, \"modeBarButtonsToRemove\": [\"zoom\", \"select\", \" lasso2d\"], \"responsive\": true}                    ).then(function(){\n",
       "                            \n",
       "var gd = document.getElementById('01bdf1ff-ec52-4621-95d6-5ebdd6790c2c');\n",
       "var x = new MutationObserver(function (mutations, observer) {{\n",
       "        var display = window.getComputedStyle(gd).display;\n",
       "        if (!display || display === 'none') {{\n",
       "            console.log([gd, 'removed!']);\n",
       "            Plotly.purge(gd);\n",
       "            observer.disconnect();\n",
       "        }}\n",
       "}});\n",
       "\n",
       "// Listen for the removal of the full notebook cells\n",
       "var notebookContainer = gd.closest('#notebook-container');\n",
       "if (notebookContainer) {{\n",
       "    x.observe(notebookContainer, {childList: true});\n",
       "}}\n",
       "\n",
       "// Listen for the clearing of the current output cell\n",
       "var outputEl = gd.closest('.output');\n",
       "if (outputEl) {{\n",
       "    x.observe(outputEl, {childList: true});\n",
       "}}\n",
       "\n",
       "                        })                };                });            </script>        </div>"
      ]
     },
     "metadata": {},
     "output_type": "display_data"
    }
   ],
   "source": [
    "from nltk.corpus import stopwords\n",
    "# Get each word list of narratives\n",
    "# Remove unnecessary words from narrative\n",
    "remove_pos_tag_list = ['CC', 'JJ', ',', '.', ')', '(', 'IN']\n",
    "stop_words = stopwords.words('english')\n",
    "stop_words += [\"sustained\",\"was\",\"fx\",\"wa\"]\n",
    "\n",
    "def remove_words_from_narrative(s):\n",
    "    s = s.lower()\n",
    "    ws = nltk.word_tokenize(s)\n",
    "    ws = [w for w in ws if w.isalpha()]\n",
    "    pos = nltk.pos_tag(ws)\n",
    "    ws = [p[0] for p in pos if (not p[1] in remove_pos_tag_list)&(not p[0] in stop_words)]\n",
    "    return ws\n",
    "\n",
    "# lines = df_ret['ChatGPT'].map(word_tokenize)\n",
    "df_ret['ChatGPT_refined'] = df_ret['ChatGPT'].map(remove_words_from_narrative)\n",
    "lines = df_ret['ChatGPT_refined'].values\n",
    "get_cooccurrence_network(lines, edge_threshold=3, freq_top_n=30)"
   ]
  },
  {
   "cell_type": "markdown",
   "id": "c7cc8a46-2441-4a07-85e3-abb1851ee4c7",
   "metadata": {
    "tags": []
   },
   "source": [
    "### Differences in antecedent events among demographic groups"
   ]
  },
  {
   "cell_type": "code",
   "execution_count": 20,
   "id": "d736131d-af76-466e-b437-b9cfaac67f20",
   "metadata": {},
   "outputs": [],
   "source": [
    "df_ret[\"age_c\"] = df_ret[\"age\"].map(lambda x:x//5 *5)"
   ]
  },
  {
   "cell_type": "code",
   "execution_count": 21,
   "id": "2644d297-b617-403c-897a-590338c276f0",
   "metadata": {},
   "outputs": [
    {
     "data": {
      "text/html": [
       "<div>\n",
       "<style scoped>\n",
       "    .dataframe tbody tr th:only-of-type {\n",
       "        vertical-align: middle;\n",
       "    }\n",
       "\n",
       "    .dataframe tbody tr th {\n",
       "        vertical-align: top;\n",
       "    }\n",
       "\n",
       "    .dataframe thead th {\n",
       "        text-align: right;\n",
       "    }\n",
       "</style>\n",
       "<table border=\"1\" class=\"dataframe\">\n",
       "  <thead>\n",
       "    <tr style=\"text-align: right;\">\n",
       "      <th></th>\n",
       "      <th>65</th>\n",
       "      <th>70</th>\n",
       "      <th>75</th>\n",
       "      <th>80</th>\n",
       "      <th>85</th>\n",
       "      <th>90</th>\n",
       "      <th>95</th>\n",
       "      <th>100</th>\n",
       "    </tr>\n",
       "  </thead>\n",
       "  <tbody>\n",
       "    <tr>\n",
       "      <th>fell</th>\n",
       "      <td>18.0</td>\n",
       "      <td>16.0</td>\n",
       "      <td>26.0</td>\n",
       "      <td>30.0</td>\n",
       "      <td>23.0</td>\n",
       "      <td>13.0</td>\n",
       "      <td>7.0</td>\n",
       "      <td>1.0</td>\n",
       "    </tr>\n",
       "    <tr>\n",
       "      <th>floor</th>\n",
       "      <td>9.0</td>\n",
       "      <td>8.0</td>\n",
       "      <td>11.0</td>\n",
       "      <td>17.0</td>\n",
       "      <td>8.0</td>\n",
       "      <td>3.0</td>\n",
       "      <td>8.0</td>\n",
       "      <td>1.0</td>\n",
       "    </tr>\n",
       "    <tr>\n",
       "      <th>tripped</th>\n",
       "      <td>6.0</td>\n",
       "      <td>11.0</td>\n",
       "      <td>14.0</td>\n",
       "      <td>6.0</td>\n",
       "      <td>7.0</td>\n",
       "      <td>1.0</td>\n",
       "      <td>3.0</td>\n",
       "      <td>NaN</td>\n",
       "    </tr>\n",
       "    <tr>\n",
       "      <th>stairs</th>\n",
       "      <td>6.0</td>\n",
       "      <td>1.0</td>\n",
       "      <td>6.0</td>\n",
       "      <td>8.0</td>\n",
       "      <td>1.0</td>\n",
       "      <td>3.0</td>\n",
       "      <td>NaN</td>\n",
       "      <td>NaN</td>\n",
       "    </tr>\n",
       "    <tr>\n",
       "      <th>lost</th>\n",
       "      <td>4.0</td>\n",
       "      <td>1.0</td>\n",
       "      <td>NaN</td>\n",
       "      <td>3.0</td>\n",
       "      <td>1.0</td>\n",
       "      <td>1.0</td>\n",
       "      <td>NaN</td>\n",
       "      <td>NaN</td>\n",
       "    </tr>\n",
       "    <tr>\n",
       "      <th>balance</th>\n",
       "      <td>4.0</td>\n",
       "      <td>1.0</td>\n",
       "      <td>NaN</td>\n",
       "      <td>2.0</td>\n",
       "      <td>1.0</td>\n",
       "      <td>1.0</td>\n",
       "      <td>NaN</td>\n",
       "      <td>NaN</td>\n",
       "    </tr>\n",
       "    <tr>\n",
       "      <th>slipped</th>\n",
       "      <td>3.0</td>\n",
       "      <td>6.0</td>\n",
       "      <td>5.0</td>\n",
       "      <td>3.0</td>\n",
       "      <td>3.0</td>\n",
       "      <td>1.0</td>\n",
       "      <td>NaN</td>\n",
       "      <td>1.0</td>\n",
       "    </tr>\n",
       "    <tr>\n",
       "      <th>steps</th>\n",
       "      <td>3.0</td>\n",
       "      <td>3.0</td>\n",
       "      <td>3.0</td>\n",
       "      <td>2.0</td>\n",
       "      <td>2.0</td>\n",
       "      <td>1.0</td>\n",
       "      <td>NaN</td>\n",
       "      <td>NaN</td>\n",
       "    </tr>\n",
       "    <tr>\n",
       "      <th>chair</th>\n",
       "      <td>3.0</td>\n",
       "      <td>1.0</td>\n",
       "      <td>3.0</td>\n",
       "      <td>7.0</td>\n",
       "      <td>6.0</td>\n",
       "      <td>NaN</td>\n",
       "      <td>NaN</td>\n",
       "      <td>NaN</td>\n",
       "    </tr>\n",
       "    <tr>\n",
       "      <th>get</th>\n",
       "      <td>3.0</td>\n",
       "      <td>3.0</td>\n",
       "      <td>NaN</td>\n",
       "      <td>2.0</td>\n",
       "      <td>NaN</td>\n",
       "      <td>NaN</td>\n",
       "      <td>NaN</td>\n",
       "      <td>NaN</td>\n",
       "    </tr>\n",
       "    <tr>\n",
       "      <th>mattress</th>\n",
       "      <td>2.0</td>\n",
       "      <td>NaN</td>\n",
       "      <td>NaN</td>\n",
       "      <td>NaN</td>\n",
       "      <td>NaN</td>\n",
       "      <td>NaN</td>\n",
       "      <td>NaN</td>\n",
       "      <td>NaN</td>\n",
       "    </tr>\n",
       "    <tr>\n",
       "      <th>flight</th>\n",
       "      <td>2.0</td>\n",
       "      <td>NaN</td>\n",
       "      <td>3.0</td>\n",
       "      <td>2.0</td>\n",
       "      <td>NaN</td>\n",
       "      <td>NaN</td>\n",
       "      <td>NaN</td>\n",
       "      <td>NaN</td>\n",
       "    </tr>\n",
       "    <tr>\n",
       "      <th>slid</th>\n",
       "      <td>2.0</td>\n",
       "      <td>NaN</td>\n",
       "      <td>NaN</td>\n",
       "      <td>NaN</td>\n",
       "      <td>NaN</td>\n",
       "      <td>NaN</td>\n",
       "      <td>NaN</td>\n",
       "      <td>NaN</td>\n",
       "    </tr>\n",
       "    <tr>\n",
       "      <th>walking</th>\n",
       "      <td>2.0</td>\n",
       "      <td>1.0</td>\n",
       "      <td>4.0</td>\n",
       "      <td>3.0</td>\n",
       "      <td>3.0</td>\n",
       "      <td>1.0</td>\n",
       "      <td>1.0</td>\n",
       "      <td>NaN</td>\n",
       "    </tr>\n",
       "    <tr>\n",
       "      <th>getting</th>\n",
       "      <td>2.0</td>\n",
       "      <td>2.0</td>\n",
       "      <td>NaN</td>\n",
       "      <td>4.0</td>\n",
       "      <td>2.0</td>\n",
       "      <td>2.0</td>\n",
       "      <td>NaN</td>\n",
       "      <td>NaN</td>\n",
       "    </tr>\n",
       "    <tr>\n",
       "      <th>forward</th>\n",
       "      <td>2.0</td>\n",
       "      <td>NaN</td>\n",
       "      <td>2.0</td>\n",
       "      <td>2.0</td>\n",
       "      <td>NaN</td>\n",
       "      <td>NaN</td>\n",
       "      <td>NaN</td>\n",
       "      <td>NaN</td>\n",
       "    </tr>\n",
       "    <tr>\n",
       "      <th>walker</th>\n",
       "      <td>2.0</td>\n",
       "      <td>NaN</td>\n",
       "      <td>2.0</td>\n",
       "      <td>1.0</td>\n",
       "      <td>1.0</td>\n",
       "      <td>1.0</td>\n",
       "      <td>NaN</td>\n",
       "      <td>NaN</td>\n",
       "    </tr>\n",
       "    <tr>\n",
       "      <th>fall</th>\n",
       "      <td>2.0</td>\n",
       "      <td>9.0</td>\n",
       "      <td>7.0</td>\n",
       "      <td>8.0</td>\n",
       "      <td>10.0</td>\n",
       "      <td>3.0</td>\n",
       "      <td>NaN</td>\n",
       "      <td>NaN</td>\n",
       "    </tr>\n",
       "    <tr>\n",
       "      <th>backwards</th>\n",
       "      <td>2.0</td>\n",
       "      <td>NaN</td>\n",
       "      <td>4.0</td>\n",
       "      <td>NaN</td>\n",
       "      <td>1.0</td>\n",
       "      <td>NaN</td>\n",
       "      <td>NaN</td>\n",
       "      <td>NaN</td>\n",
       "    </tr>\n",
       "    <tr>\n",
       "      <th>got</th>\n",
       "      <td>2.0</td>\n",
       "      <td>1.0</td>\n",
       "      <td>2.0</td>\n",
       "      <td>2.0</td>\n",
       "      <td>1.0</td>\n",
       "      <td>NaN</td>\n",
       "      <td>NaN</td>\n",
       "      <td>NaN</td>\n",
       "    </tr>\n",
       "  </tbody>\n",
       "</table>\n",
       "</div>"
      ],
      "text/plain": [
       "            65    70    75    80    85    90   95   100\n",
       "fell       18.0  16.0  26.0  30.0  23.0  13.0  7.0  1.0\n",
       "floor       9.0   8.0  11.0  17.0   8.0   3.0  8.0  1.0\n",
       "tripped     6.0  11.0  14.0   6.0   7.0   1.0  3.0  NaN\n",
       "stairs      6.0   1.0   6.0   8.0   1.0   3.0  NaN  NaN\n",
       "lost        4.0   1.0   NaN   3.0   1.0   1.0  NaN  NaN\n",
       "balance     4.0   1.0   NaN   2.0   1.0   1.0  NaN  NaN\n",
       "slipped     3.0   6.0   5.0   3.0   3.0   1.0  NaN  1.0\n",
       "steps       3.0   3.0   3.0   2.0   2.0   1.0  NaN  NaN\n",
       "chair       3.0   1.0   3.0   7.0   6.0   NaN  NaN  NaN\n",
       "get         3.0   3.0   NaN   2.0   NaN   NaN  NaN  NaN\n",
       "mattress    2.0   NaN   NaN   NaN   NaN   NaN  NaN  NaN\n",
       "flight      2.0   NaN   3.0   2.0   NaN   NaN  NaN  NaN\n",
       "slid        2.0   NaN   NaN   NaN   NaN   NaN  NaN  NaN\n",
       "walking     2.0   1.0   4.0   3.0   3.0   1.0  1.0  NaN\n",
       "getting     2.0   2.0   NaN   4.0   2.0   2.0  NaN  NaN\n",
       "forward     2.0   NaN   2.0   2.0   NaN   NaN  NaN  NaN\n",
       "walker      2.0   NaN   2.0   1.0   1.0   1.0  NaN  NaN\n",
       "fall        2.0   9.0   7.0   8.0  10.0   3.0  NaN  NaN\n",
       "backwards   2.0   NaN   4.0   NaN   1.0   NaN  NaN  NaN\n",
       "got         2.0   1.0   2.0   2.0   1.0   NaN  NaN  NaN"
      ]
     },
     "execution_count": 21,
     "metadata": {},
     "output_type": "execute_result"
    }
   ],
   "source": [
    "category_col='age_c' #'race'#'age_c','sex'\n",
    "\n",
    "# 空の辞書を作成して、カテゴリごとに単語の頻出リストを格納\n",
    "word_freq = {}\n",
    "for category in sorted(df_ret[category_col].unique()):\n",
    "    # そのカテゴリのすべての単語を1つのリストに結合\n",
    "    words_in_category = df_ret[df_ret[category_col] == category]['ChatGPT_refined'].sum()\n",
    "    # 単語の出現回数をカウント\n",
    "    word_count = pd.Series(words_in_category).value_counts().to_dict()\n",
    "    word_freq[category] = word_count\n",
    "    \n",
    "pd.DataFrame(word_freq).head(20)"
   ]
  },
  {
   "cell_type": "code",
   "execution_count": 22,
   "id": "c483f441-9398-4b01-b07c-298cd9f0bc74",
   "metadata": {},
   "outputs": [
    {
     "data": {
      "text/plain": [
       "age_c\n",
       "65     39\n",
       "70     47\n",
       "75     57\n",
       "80     64\n",
       "85     56\n",
       "90     24\n",
       "95     11\n",
       "100     2\n",
       "Name: count, dtype: int64"
      ]
     },
     "execution_count": 22,
     "metadata": {},
     "output_type": "execute_result"
    }
   ],
   "source": [
    "df_ret[\"age_c\"].value_counts().sort_index()\n",
    "# 186/114"
   ]
  },
  {
   "cell_type": "code",
   "execution_count": null,
   "id": "ce0a9d2d-73e6-4dd9-88de-c6e1e7b7606e",
   "metadata": {},
   "outputs": [],
   "source": []
  }
 ],
 "metadata": {
  "kernelspec": {
   "display_name": "Python 3 (ipykernel)",
   "language": "python",
   "name": "python3"
  },
  "language_info": {
   "codemirror_mode": {
    "name": "ipython",
    "version": 3
   },
   "file_extension": ".py",
   "mimetype": "text/x-python",
   "name": "python",
   "nbconvert_exporter": "python",
   "pygments_lexer": "ipython3",
   "version": "3.8.8"
  }
 },
 "nbformat": 4,
 "nbformat_minor": 5
}
